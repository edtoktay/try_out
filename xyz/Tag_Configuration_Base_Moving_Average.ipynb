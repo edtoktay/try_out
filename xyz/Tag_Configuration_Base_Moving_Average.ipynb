{
 "cells": [
  {
   "cell_type": "markdown",
   "id": "53de04e6-09f0-41fd-9a98-a766156e1332",
   "metadata": {},
   "source": [
    "### Simple Moving Average\n",
    "\n",
    "Moving average is the calculating to analyze data points by creating a series of averages of different sections of the full data set.\n",
    "\n",
    "Simple Moving Average (**SMA**) is the unweighted mean of the previous _k_ data points.\n",
    "\n",
    "$$ SMA_k = \\frac{1}{k} \\sum_{i=n-k+1}^n p_i $$\n",
    "\n",
    "$$ p = {Error \\over Production} $$\n",
    "\n",
    "$$ MovingAverage = \\frac{1}{k} \\sum_{i=n-k+1}^n {Error_i \\over Production_i} $$"
   ]
  },
  {
   "cell_type": "code",
   "execution_count": 1,
   "id": "e1c8442f-0e2e-4e27-af08-a6f9dc5ca5dc",
   "metadata": {},
   "outputs": [
    {
     "name": "stdout",
     "output_type": "stream",
     "text": [
      "Requirement already satisfied: pandas==2.2.1 in /home/deniz.toktay/Development/Lang/anaconda3/envs/genAI/lib/python3.12/site-packages (from -r interpolate-requirements.txt (line 1)) (2.2.1)\n",
      "Requirement already satisfied: numpy==1.26.4 in /home/deniz.toktay/Development/Lang/anaconda3/envs/genAI/lib/python3.12/site-packages (from -r interpolate-requirements.txt (line 2)) (1.26.4)\n",
      "Requirement already satisfied: pika==1.3.2 in /home/deniz.toktay/Development/Lang/anaconda3/envs/genAI/lib/python3.12/site-packages (from -r interpolate-requirements.txt (line 3)) (1.3.2)\n",
      "Requirement already satisfied: python-dateutil>=2.8.2 in /home/deniz.toktay/Development/Lang/anaconda3/envs/genAI/lib/python3.12/site-packages (from pandas==2.2.1->-r interpolate-requirements.txt (line 1)) (2.9.0.post0)\n",
      "Requirement already satisfied: pytz>=2020.1 in /home/deniz.toktay/Development/Lang/anaconda3/envs/genAI/lib/python3.12/site-packages (from pandas==2.2.1->-r interpolate-requirements.txt (line 1)) (2024.1)\n",
      "Requirement already satisfied: tzdata>=2022.7 in /home/deniz.toktay/Development/Lang/anaconda3/envs/genAI/lib/python3.12/site-packages (from pandas==2.2.1->-r interpolate-requirements.txt (line 1)) (2024.1)\n",
      "Requirement already satisfied: six>=1.5 in /home/deniz.toktay/Development/Lang/anaconda3/envs/genAI/lib/python3.12/site-packages (from python-dateutil>=2.8.2->pandas==2.2.1->-r interpolate-requirements.txt (line 1)) (1.16.0)\n"
     ]
    }
   ],
   "source": [
    "!pip install -r interpolate-requirements.txt"
   ]
  },
  {
   "cell_type": "code",
   "execution_count": 2,
   "id": "626407a5-7583-40a8-a5da-e12c7e639423",
   "metadata": {},
   "outputs": [],
   "source": [
    "import pandas as pd\n",
    "import numpy as np\n",
    "import pika\n",
    "import json\n",
    "import sql_operations\n",
    "import math"
   ]
  },
  {
   "cell_type": "code",
   "execution_count": 3,
   "id": "251a0413-3a81-488e-8a8d-c5e9d277a7cc",
   "metadata": {},
   "outputs": [],
   "source": [
    "# Temporary for in operation\n",
    "import psycopg2\n",
    "import sqls"
   ]
  },
  {
   "cell_type": "code",
   "execution_count": 4,
   "id": "b3635638-1fb7-4d0c-9a7f-6a9812e2b039",
   "metadata": {},
   "outputs": [
    {
     "data": {
      "text/plain": [
       "<METHOD(['channel_number=1', 'frame_type=1', \"method=<Queue.DeclareOk(['consumer_count=0', 'message_count=1', 'queue=new_interpolarate'])>\"])>"
      ]
     },
     "execution_count": 4,
     "metadata": {},
     "output_type": "execute_result"
    }
   ],
   "source": [
    "mq_connection = pika.BlockingConnection(\n",
    "    pika.ConnectionParameters('172.16.238.20'))\n",
    "channel = mq_connection.channel()\n",
    "channel.queue_declare(queue='new_interpolarate')"
   ]
  },
  {
   "cell_type": "code",
   "execution_count": 5,
   "id": "2772a1cd-fea5-442b-b75b-60dd35be6e59",
   "metadata": {},
   "outputs": [],
   "source": [
    "connection = psycopg2.connect(database='postgres_db',\n",
    "                              user='postgres',\n",
    "                              password='p.postgres',\n",
    "                              host='172.16.238.10',\n",
    "                              port=5432)\n",
    "cursor = connection.cursor()"
   ]
  },
  {
   "cell_type": "code",
   "execution_count": 6,
   "id": "02ed5ef8-b2c8-40cf-8403-7126f5a40bd8",
   "metadata": {},
   "outputs": [],
   "source": [
    "boxing_size = 1000"
   ]
  },
  {
   "cell_type": "code",
   "execution_count": 7,
   "id": "c844a925-ef09-4b55-aa84-51f875c8e67f",
   "metadata": {},
   "outputs": [],
   "source": [
    "def get_tag_data_frame(ids):\n",
    "    cursor.execute(sqls.get_interpolated_tags, (tuple(ids),))\n",
    "    interpolated_data = cursor.fetchall()\n",
    "    interpolated = []\n",
    "    for data in interpolated_data:\n",
    "        interpolated.append({'timestamp': data[0], 'value': data[1]})\n",
    "    return pd.DataFrame(interpolated) if len(interpolated) > 0 else None"
   ]
  },
  {
   "cell_type": "code",
   "execution_count": 8,
   "id": "4cb53c5f-3c57-4624-b8bc-9b0b4c27598d",
   "metadata": {},
   "outputs": [],
   "source": [
    "def get_merged_data_frame(master_ids, error_ids):\n",
    "    master_df = get_tag_data_frame(master_ids)\n",
    "    error_df = get_tag_data_frame(error_ids)\n",
    "    merged_df = master_df.merge(error_df, on='timestamp', how='left').fillna(0)\n",
    "    return merged_df"
   ]
  },
  {
   "cell_type": "code",
   "execution_count": 9,
   "id": "843fcf74-fb83-4193-9a11-e27b22be3bc9",
   "metadata": {},
   "outputs": [],
   "source": [
    "def save_box(df, production_total, error_total, batch_id, master_tag_id, error_tag_id):\n",
    "    start_time = df.iloc[0]['Timestamp']\n",
    "    end_time = df.iloc[len(df) - 1]['Timestamp']\n",
    "    success_total = df['Success'].sum()\n",
    "    total_start = production_total - success_total\n",
    "    total_end = production_total\n",
    "    error_current_total = df['Error'].sum()\n",
    "    error_start = error_total - error_current_total\n",
    "    error_end = error_total\n",
    "    size = success_total\n",
    "    error_rate = error_current_total/success_total * 100\n",
    "    inserted_id = sql_operations.insert_boxed_data(start_time, \n",
    "                                                  end_time,\n",
    "                                                  int(total_start),\n",
    "                                                  int(total_end),\n",
    "                                                  int(error_start),\n",
    "                                                  int(error_end),\n",
    "                                                  int(size),\n",
    "                                                  int(error_current_total),\n",
    "                                                  float(error_rate))\n",
    "    sql_operations.insert_boxed_batch(inserted_id, batch_id)\n",
    "    sql_operations.insert_boxed_tag(inserted_id, master_tag_id)\n",
    "    sql_operations.insert_boxed_tag(inserted_id, error_tag_id)"
   ]
  },
  {
   "cell_type": "code",
   "execution_count": 10,
   "id": "d0214f42-686a-4d18-95f7-4079b7d4fdcf",
   "metadata": {},
   "outputs": [],
   "source": [
    "def find_slice_index(current_boxing, current_total, current_error):\n",
    "    idx = 0\n",
    "    diff = 0\n",
    "    approximate_errors_for_diff = 0\n",
    "    for index, row in current_boxing.iterrows():\n",
    "        row_production = row['Success']\n",
    "        row_error = row['Error']\n",
    "        current_total -= int(row_production)\n",
    "        current_error -= int(row_error)\n",
    "        if current_error < boxing_size:\n",
    "            idx = index\n",
    "            diff = boxing_size - current_total\n",
    "            approximate_errors_for_diff = math.ceil(diff * row_error / row_production)\n",
    "            current_total += diff\n",
    "            current_error += approximate_errors_for_diff\n",
    "            idx += 1\n",
    "            break\n",
    "    percentage = 0\n",
    "    if current_total > 0:\n",
    "        percentage = current_error/ current_total * 100\n",
    "    return idx, diff, approximate_errors_for_diff, percentage"
   ]
  },
  {
   "cell_type": "code",
   "execution_count": 11,
   "id": "5e14a99b-968e-4cb1-9977-1291fe848b73",
   "metadata": {},
   "outputs": [],
   "source": [
    "def calculate_total_production(current_boxing):\n",
    "    production = current_boxing['Success'].sum()\n",
    "    error = current_boxing['Error'].sum()\n",
    "    percentage = 0\n",
    "    if production >= boxing_size:\n",
    "        idx, diff, aprx_error, percentage = find_slice_index(current_boxing, production, error)\n",
    "        current_boxing = current_boxing.iloc[idx:, :]\n",
    "        current_boxing.reset_index(drop=True, inplace=True)\n",
    "    if percentage == 0 and production > 0:\n",
    "        percentage = error/ production * 100\n",
    "    return current_boxing, percentage"
   ]
  },
  {
   "cell_type": "code",
   "execution_count": 12,
   "id": "f93eefb3-5324-428d-88af-288c9d1e5d74",
   "metadata": {},
   "outputs": [],
   "source": [
    "def box_data(df, batch_id, master_tag_id, error_tag_id):\n",
    "    temp_df = pd.DataFrame(columns=['Timestamp', 'Success', 'Error', 'Error_Percentage'])\n",
    "    production_total = 0\n",
    "    error_total = 0\n",
    "    for index, r in df.iterrows():\n",
    "        timestamp = r['timestamp']\n",
    "        produced = r['value_x']\n",
    "        error = r['value_y']\n",
    "        production_total += produced\n",
    "        error_total += error\n",
    "        temp_df.loc[len(temp_df)] = [timestamp, produced, error, error/produced *100]\n",
    "        temp_df, percentage = calculate_total_production(temp_df)\n",
    "        save_box(temp_df, production_total, error_total, batch_id, master_tag_id, error_tag_id)"
   ]
  },
  {
   "cell_type": "code",
   "execution_count": 13,
   "id": "38a05ff2-fd54-4661-948f-c6530ac4ea47",
   "metadata": {},
   "outputs": [],
   "source": [
    "def process_message(queue_message):\n",
    "    merged_df = get_merged_data_frame(\n",
    "        queue_message['MasterTag']['interpolatedIds'], \n",
    "        queue_message['ErrorTag']['interpolatedIds'])\n",
    "    box_data(merged_df, queue_message['BatchId'], queue_message['MasterTag']['id'], \n",
    "        queue_message['ErrorTag']['id'])\n",
    "    sql_operations.commit()"
   ]
  },
  {
   "cell_type": "code",
   "execution_count": 14,
   "id": "8890db6c-fd47-4778-bf99-28527f3a2aa0",
   "metadata": {},
   "outputs": [],
   "source": [
    "def message_consumer():\n",
    "    def callback(ch, method, properties, body):\n",
    "        queue_message = json.loads(body)\n",
    "        message = process_message(queue_message)\n",
    "    channel.basic_consume(queue='new_interpolarate', on_message_callback=callback, auto_ack=True)\n",
    "    channel.start_consuming()"
   ]
  },
  {
   "cell_type": "code",
   "execution_count": 15,
   "id": "427c1b37-8e02-414e-abc5-40b4ce72cd1e",
   "metadata": {
    "scrolled": true
   },
   "outputs": [
    {
     "ename": "KeyboardInterrupt",
     "evalue": "",
     "output_type": "error",
     "traceback": [
      "\u001b[0;31m---------------------------------------------------------------------------\u001b[0m",
      "\u001b[0;31mKeyboardInterrupt\u001b[0m                         Traceback (most recent call last)",
      "Cell \u001b[0;32mIn[15], line 1\u001b[0m\n\u001b[0;32m----> 1\u001b[0m message_consumer()\n",
      "Cell \u001b[0;32mIn[14], line 6\u001b[0m, in \u001b[0;36mmessage_consumer\u001b[0;34m()\u001b[0m\n\u001b[1;32m      4\u001b[0m     message \u001b[38;5;241m=\u001b[39m process_message(queue_message)\n\u001b[1;32m      5\u001b[0m channel\u001b[38;5;241m.\u001b[39mbasic_consume(queue\u001b[38;5;241m=\u001b[39m\u001b[38;5;124m'\u001b[39m\u001b[38;5;124mnew_interpolarate\u001b[39m\u001b[38;5;124m'\u001b[39m, on_message_callback\u001b[38;5;241m=\u001b[39mcallback, auto_ack\u001b[38;5;241m=\u001b[39m\u001b[38;5;28;01mTrue\u001b[39;00m)\n\u001b[0;32m----> 6\u001b[0m channel\u001b[38;5;241m.\u001b[39mstart_consuming()\n",
      "File \u001b[0;32m~/Development/Lang/anaconda3/envs/genAI/lib/python3.12/site-packages/pika/adapters/blocking_connection.py:1883\u001b[0m, in \u001b[0;36mBlockingChannel.start_consuming\u001b[0;34m(self)\u001b[0m\n\u001b[1;32m   1880\u001b[0m \u001b[38;5;66;03m# Process events as long as consumers exist on this channel\u001b[39;00m\n\u001b[1;32m   1881\u001b[0m \u001b[38;5;28;01mwhile\u001b[39;00m \u001b[38;5;28mself\u001b[39m\u001b[38;5;241m.\u001b[39m_consumer_infos:\n\u001b[1;32m   1882\u001b[0m     \u001b[38;5;66;03m# This will raise ChannelClosed if channel is closed by broker\u001b[39;00m\n\u001b[0;32m-> 1883\u001b[0m     \u001b[38;5;28mself\u001b[39m\u001b[38;5;241m.\u001b[39m_process_data_events(time_limit\u001b[38;5;241m=\u001b[39m\u001b[38;5;28;01mNone\u001b[39;00m)\n",
      "File \u001b[0;32m~/Development/Lang/anaconda3/envs/genAI/lib/python3.12/site-packages/pika/adapters/blocking_connection.py:2044\u001b[0m, in \u001b[0;36mBlockingChannel._process_data_events\u001b[0;34m(self, time_limit)\u001b[0m\n\u001b[1;32m   2025\u001b[0m \u001b[38;5;28;01mdef\u001b[39;00m \u001b[38;5;21m_process_data_events\u001b[39m(\u001b[38;5;28mself\u001b[39m, time_limit):\n\u001b[1;32m   2026\u001b[0m \u001b[38;5;250m    \u001b[39m\u001b[38;5;124;03m\"\"\"Wrapper for `BlockingConnection.process_data_events()` with common\u001b[39;00m\n\u001b[1;32m   2027\u001b[0m \u001b[38;5;124;03m    channel-specific logic that raises ChannelClosed if broker closed this\u001b[39;00m\n\u001b[1;32m   2028\u001b[0m \u001b[38;5;124;03m    channel.\u001b[39;00m\n\u001b[0;32m   (...)\u001b[0m\n\u001b[1;32m   2042\u001b[0m \n\u001b[1;32m   2043\u001b[0m \u001b[38;5;124;03m    \"\"\"\u001b[39;00m\n\u001b[0;32m-> 2044\u001b[0m     \u001b[38;5;28mself\u001b[39m\u001b[38;5;241m.\u001b[39mconnection\u001b[38;5;241m.\u001b[39mprocess_data_events(time_limit\u001b[38;5;241m=\u001b[39mtime_limit)\n\u001b[1;32m   2045\u001b[0m     \u001b[38;5;28;01mif\u001b[39;00m \u001b[38;5;28mself\u001b[39m\u001b[38;5;241m.\u001b[39mis_closed \u001b[38;5;129;01mand\u001b[39;00m \u001b[38;5;28misinstance\u001b[39m(\u001b[38;5;28mself\u001b[39m\u001b[38;5;241m.\u001b[39m_closing_reason,\n\u001b[1;32m   2046\u001b[0m                                      exceptions\u001b[38;5;241m.\u001b[39mChannelClosedByBroker):\n\u001b[1;32m   2047\u001b[0m         LOGGER\u001b[38;5;241m.\u001b[39mdebug(\u001b[38;5;124m'\u001b[39m\u001b[38;5;124mChannel close by broker detected, raising \u001b[39m\u001b[38;5;132;01m%r\u001b[39;00m\u001b[38;5;124m; \u001b[39m\u001b[38;5;132;01m%r\u001b[39;00m\u001b[38;5;124m'\u001b[39m,\n\u001b[1;32m   2048\u001b[0m                      \u001b[38;5;28mself\u001b[39m\u001b[38;5;241m.\u001b[39m_closing_reason, \u001b[38;5;28mself\u001b[39m)\n",
      "File \u001b[0;32m~/Development/Lang/anaconda3/envs/genAI/lib/python3.12/site-packages/pika/adapters/blocking_connection.py:842\u001b[0m, in \u001b[0;36mBlockingConnection.process_data_events\u001b[0;34m(self, time_limit)\u001b[0m\n\u001b[1;32m    838\u001b[0m common_terminator \u001b[38;5;241m=\u001b[39m \u001b[38;5;28;01mlambda\u001b[39;00m: \u001b[38;5;28mbool\u001b[39m(dispatch_acquired \u001b[38;5;129;01mand\u001b[39;00m\n\u001b[1;32m    839\u001b[0m                                  (\u001b[38;5;28mself\u001b[39m\u001b[38;5;241m.\u001b[39m_channels_pending_dispatch \u001b[38;5;129;01mor\u001b[39;00m\n\u001b[1;32m    840\u001b[0m                                   \u001b[38;5;28mself\u001b[39m\u001b[38;5;241m.\u001b[39m_ready_events))\n\u001b[1;32m    841\u001b[0m \u001b[38;5;28;01mif\u001b[39;00m time_limit \u001b[38;5;129;01mis\u001b[39;00m \u001b[38;5;28;01mNone\u001b[39;00m:\n\u001b[0;32m--> 842\u001b[0m     \u001b[38;5;28mself\u001b[39m\u001b[38;5;241m.\u001b[39m_flush_output(common_terminator)\n\u001b[1;32m    843\u001b[0m \u001b[38;5;28;01melse\u001b[39;00m:\n\u001b[1;32m    844\u001b[0m     \u001b[38;5;28;01mwith\u001b[39;00m _IoloopTimerContext(time_limit, \u001b[38;5;28mself\u001b[39m\u001b[38;5;241m.\u001b[39m_impl) \u001b[38;5;28;01mas\u001b[39;00m timer:\n",
      "File \u001b[0;32m~/Development/Lang/anaconda3/envs/genAI/lib/python3.12/site-packages/pika/adapters/blocking_connection.py:514\u001b[0m, in \u001b[0;36mBlockingConnection._flush_output\u001b[0;34m(self, *waiters)\u001b[0m\n\u001b[1;32m    512\u001b[0m \u001b[38;5;66;03m# Process I/O until our completion condition is satisfied\u001b[39;00m\n\u001b[1;32m    513\u001b[0m \u001b[38;5;28;01mwhile\u001b[39;00m \u001b[38;5;129;01mnot\u001b[39;00m is_done():\n\u001b[0;32m--> 514\u001b[0m     \u001b[38;5;28mself\u001b[39m\u001b[38;5;241m.\u001b[39m_impl\u001b[38;5;241m.\u001b[39mioloop\u001b[38;5;241m.\u001b[39mpoll()\n\u001b[1;32m    515\u001b[0m     \u001b[38;5;28mself\u001b[39m\u001b[38;5;241m.\u001b[39m_impl\u001b[38;5;241m.\u001b[39mioloop\u001b[38;5;241m.\u001b[39mprocess_timeouts()\n\u001b[1;32m    517\u001b[0m \u001b[38;5;28;01mif\u001b[39;00m \u001b[38;5;28mself\u001b[39m\u001b[38;5;241m.\u001b[39m_closed_result\u001b[38;5;241m.\u001b[39mready:\n",
      "File \u001b[0;32m~/Development/Lang/anaconda3/envs/genAI/lib/python3.12/site-packages/pika/adapters/select_connection.py:579\u001b[0m, in \u001b[0;36mIOLoop.poll\u001b[0;34m(self)\u001b[0m\n\u001b[1;32m    572\u001b[0m \u001b[38;5;28;01mdef\u001b[39;00m \u001b[38;5;21mpoll\u001b[39m(\u001b[38;5;28mself\u001b[39m):\n\u001b[1;32m    573\u001b[0m \u001b[38;5;250m    \u001b[39m\u001b[38;5;124;03m\"\"\"[Extension] Wait for events of interest on registered file\u001b[39;00m\n\u001b[1;32m    574\u001b[0m \u001b[38;5;124;03m    descriptors until an event of interest occurs or next timer deadline or\u001b[39;00m\n\u001b[1;32m    575\u001b[0m \u001b[38;5;124;03m    `_PollerBase._MAX_POLL_TIMEOUT`, whichever is sooner, and dispatch the\u001b[39;00m\n\u001b[1;32m    576\u001b[0m \u001b[38;5;124;03m    corresponding event handlers.\u001b[39;00m\n\u001b[1;32m    577\u001b[0m \n\u001b[1;32m    578\u001b[0m \u001b[38;5;124;03m    \"\"\"\u001b[39;00m\n\u001b[0;32m--> 579\u001b[0m     \u001b[38;5;28mself\u001b[39m\u001b[38;5;241m.\u001b[39m_poller\u001b[38;5;241m.\u001b[39mpoll()\n",
      "File \u001b[0;32m~/Development/Lang/anaconda3/envs/genAI/lib/python3.12/site-packages/pika/adapters/select_connection.py:1184\u001b[0m, in \u001b[0;36mPollPoller.poll\u001b[0;34m(self)\u001b[0m\n\u001b[1;32m   1182\u001b[0m \u001b[38;5;28;01mwhile\u001b[39;00m \u001b[38;5;28;01mTrue\u001b[39;00m:\n\u001b[1;32m   1183\u001b[0m     \u001b[38;5;28;01mtry\u001b[39;00m:\n\u001b[0;32m-> 1184\u001b[0m         events \u001b[38;5;241m=\u001b[39m \u001b[38;5;28mself\u001b[39m\u001b[38;5;241m.\u001b[39m_poll\u001b[38;5;241m.\u001b[39mpoll(\u001b[38;5;28mself\u001b[39m\u001b[38;5;241m.\u001b[39m_get_max_wait())\n\u001b[1;32m   1185\u001b[0m         \u001b[38;5;28;01mbreak\u001b[39;00m\n\u001b[1;32m   1186\u001b[0m     \u001b[38;5;28;01mexcept\u001b[39;00m _SELECT_ERRORS \u001b[38;5;28;01mas\u001b[39;00m error:\n",
      "\u001b[0;31mKeyboardInterrupt\u001b[0m: "
     ]
    }
   ],
   "source": [
    "message_consumer()"
   ]
  },
  {
   "cell_type": "code",
   "execution_count": 16,
   "id": "a8ed5de2-e7e9-4d92-998b-f13f41e17452",
   "metadata": {},
   "outputs": [],
   "source": [
    "mq_connection.close()"
   ]
  },
  {
   "cell_type": "code",
   "execution_count": null,
   "id": "7a53cab6-07b5-478e-b51c-dbcd8c3993a7",
   "metadata": {},
   "outputs": [],
   "source": []
  }
 ],
 "metadata": {
  "kernelspec": {
   "display_name": "Python 3 (ipykernel)",
   "language": "python",
   "name": "python3"
  },
  "language_info": {
   "codemirror_mode": {
    "name": "ipython",
    "version": 3
   },
   "file_extension": ".py",
   "mimetype": "text/x-python",
   "name": "python",
   "nbconvert_exporter": "python",
   "pygments_lexer": "ipython3",
   "version": "3.12.3"
  }
 },
 "nbformat": 4,
 "nbformat_minor": 5
}
