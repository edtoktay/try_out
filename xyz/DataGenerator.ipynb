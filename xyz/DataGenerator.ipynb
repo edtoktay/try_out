{
 "cells": [
  {
   "cell_type": "markdown",
   "id": "0b5d59ba-c596-4d30-a7a0-7c3d1ac02e37",
   "metadata": {},
   "source": [
    "## Generates Dummy Data For testing"
   ]
  },
  {
   "cell_type": "code",
   "execution_count": 1,
   "id": "1ae3f3a0-c73a-4ca2-bcbd-5e4ec070a8d9",
   "metadata": {},
   "outputs": [
    {
     "name": "stdout",
     "output_type": "stream",
     "text": [
      "Overwriting datagen_requirements.txt\n"
     ]
    }
   ],
   "source": [
    "%%writefile datagen_requirements.txt\n",
    "pandas==2.2.1"
   ]
  },
  {
   "cell_type": "code",
   "execution_count": 2,
   "id": "c69e22fc-0a4c-424a-b3c0-2c5b5f953367",
   "metadata": {},
   "outputs": [
    {
     "name": "stdout",
     "output_type": "stream",
     "text": [
      "Requirement already satisfied: pandas==2.2.1 in /home/deniz.toktay/Development/Lang/anaconda3/envs/genAI/lib/python3.12/site-packages (from -r datagen_requirements.txt (line 1)) (2.2.1)\n",
      "Requirement already satisfied: numpy<2,>=1.26.0 in /home/deniz.toktay/Development/Lang/anaconda3/envs/genAI/lib/python3.12/site-packages (from pandas==2.2.1->-r datagen_requirements.txt (line 1)) (1.26.4)\n",
      "Requirement already satisfied: python-dateutil>=2.8.2 in /home/deniz.toktay/Development/Lang/anaconda3/envs/genAI/lib/python3.12/site-packages (from pandas==2.2.1->-r datagen_requirements.txt (line 1)) (2.9.0.post0)\n",
      "Requirement already satisfied: pytz>=2020.1 in /home/deniz.toktay/Development/Lang/anaconda3/envs/genAI/lib/python3.12/site-packages (from pandas==2.2.1->-r datagen_requirements.txt (line 1)) (2024.1)\n",
      "Requirement already satisfied: tzdata>=2022.7 in /home/deniz.toktay/Development/Lang/anaconda3/envs/genAI/lib/python3.12/site-packages (from pandas==2.2.1->-r datagen_requirements.txt (line 1)) (2024.1)\n",
      "Requirement already satisfied: six>=1.5 in /home/deniz.toktay/Development/Lang/anaconda3/envs/genAI/lib/python3.12/site-packages (from python-dateutil>=2.8.2->pandas==2.2.1->-r datagen_requirements.txt (line 1)) (1.16.0)\n"
     ]
    }
   ],
   "source": [
    "!pip install -r datagen_requirements.txt"
   ]
  },
  {
   "cell_type": "code",
   "execution_count": 3,
   "id": "32f3b9f1-05b6-477b-b5a0-2220a8a873e2",
   "metadata": {},
   "outputs": [],
   "source": [
    "import csv\n",
    "import random\n",
    "import pandas as pd\n",
    "from time import sleep\n",
    "import datetime"
   ]
  },
  {
   "cell_type": "code",
   "execution_count": 4,
   "id": "d65b976d-8283-4c7a-bfaa-36785e869cc1",
   "metadata": {},
   "outputs": [],
   "source": [
    "tag200 = '2570/Ma_B.SLV.Counter.Counter0200'\n",
    "tag202 = '2570/Ma_B.SLV.Counter.Counter0202'\n",
    "product = 'WFI+9mg/g NACL 1x0.70ml PFS DSF4 BD'"
   ]
  },
  {
   "cell_type": "code",
   "execution_count": 5,
   "id": "cddd4f84-fc62-4543-9b15-06fb40395f13",
   "metadata": {},
   "outputs": [
    {
     "name": "stdout",
     "output_type": "stream",
     "text": [
      "coma seperated batches\n"
     ]
    },
    {
     "name": "stdin",
     "output_type": "stream",
     "text": [
      " ED1108\n"
     ]
    }
   ],
   "source": [
    "print('coma seperated batches')\n",
    "batches = input()"
   ]
  },
  {
   "cell_type": "code",
   "execution_count": 6,
   "id": "36a07de6-8d42-4b48-82db-df2b4d3cbcb3",
   "metadata": {},
   "outputs": [],
   "source": [
    "batches_to_generate = batches.split(', ')"
   ]
  },
  {
   "cell_type": "code",
   "execution_count": 7,
   "id": "f244ee8e-6b60-4486-b517-ecaad4167f81",
   "metadata": {},
   "outputs": [
    {
     "name": "stdout",
     "output_type": "stream",
     "text": [
      "['ED1108']\n"
     ]
    }
   ],
   "source": [
    "print(batches_to_generate)"
   ]
  },
  {
   "cell_type": "code",
   "execution_count": 8,
   "id": "38a884f7-ee6b-4a8b-b1d4-3d59a8dba97f",
   "metadata": {},
   "outputs": [
    {
     "name": "stdout",
     "output_type": "stream",
     "text": [
      "Details for batch ED1108\n",
      "is_stopped\n"
     ]
    },
    {
     "name": "stdin",
     "output_type": "stream",
     "text": [
      " 1\n"
     ]
    },
    {
     "name": "stdout",
     "output_type": "stream",
     "text": [
      "Numben of stops\n"
     ]
    },
    {
     "name": "stdin",
     "output_type": "stream",
     "text": [
      " 4\n"
     ]
    },
    {
     "name": "stdout",
     "output_type": "stream",
     "text": [
      "Start Date in dd-MM-yyyy\n"
     ]
    },
    {
     "name": "stdin",
     "output_type": "stream",
     "text": [
      " 13-06-2024\n"
     ]
    },
    {
     "name": "stdout",
     "output_type": "stream",
     "text": [
      "Start Date in HH:mm\n"
     ]
    },
    {
     "name": "stdin",
     "output_type": "stream",
     "text": [
      " 18:45\n"
     ]
    },
    {
     "name": "stdout",
     "output_type": "stream",
     "text": [
      "Max Production Per Cycle\n"
     ]
    },
    {
     "name": "stdin",
     "output_type": "stream",
     "text": [
      " 185\n"
     ]
    },
    {
     "name": "stdout",
     "output_type": "stream",
     "text": [
      "Total Production\n"
     ]
    },
    {
     "name": "stdin",
     "output_type": "stream",
     "text": [
      " 1987564\n"
     ]
    },
    {
     "name": "stdout",
     "output_type": "stream",
     "text": [
      "Number of csv Generation Cycle\n"
     ]
    },
    {
     "name": "stdin",
     "output_type": "stream",
     "text": [
      " 15\n"
     ]
    }
   ],
   "source": [
    "configuration = []\n",
    "stopper = []\n",
    "number_of_stops = None\n",
    "for batch in batches_to_generate:\n",
    "    print('Details for batch %s' % batch)\n",
    "    print('is_stopped')\n",
    "    is_stopped = input()\n",
    "    if is_stopped == '1':\n",
    "        print('Numben of stops')\n",
    "        number_of_stops = input()\n",
    "    print('Start Date in dd-MM-yyyy')\n",
    "    start_date = input()\n",
    "    print('Start Date in HH:mm')\n",
    "    start_time = input()\n",
    "    print('Max Production Per Cycle')\n",
    "    max_production_per_cycle = input()\n",
    "    print('Total Production')\n",
    "    total_production = input()\n",
    "    print('Number of csv Generation Cycle')\n",
    "    csv_gen_cycle = input()\n",
    "    start_datetime = start_date + ' ' + start_time\n",
    "    date_format = '%d-%m-%Y %H:%M'\n",
    "    configuration.append({'Batch': batch, \\\n",
    "                          'Stopped': is_stopped == '1', \\\n",
    "                          'NumberOfStops': int(number_of_stops) if number_of_stops is not None else 0, \\\n",
    "                          'StartDateTime': datetime.datetime.strptime(start_datetime, date_format), \\\n",
    "                          'MaxCycleProduction': int(max_production_per_cycle), \\\n",
    "                          'TotalProduction': int(total_production), \\\n",
    "                          'CurrentTotalProduced': 0, \\\n",
    "                          'CurrentTotalError': 0, \\\n",
    "                          'CsvCycle': int(csv_gen_cycle)})\n",
    "    stopper.append({'Batch': batch, 'IsStop': False})"
   ]
  },
  {
   "cell_type": "code",
   "execution_count": 9,
   "id": "0ad5f164-4c57-40a2-b9e2-d74f0d4a91cc",
   "metadata": {},
   "outputs": [
    {
     "name": "stdout",
     "output_type": "stream",
     "text": [
      "[{'Batch': 'ED1108', 'Stopped': True, 'NumberOfStops': 4, 'StartDateTime': datetime.datetime(2024, 6, 13, 18, 45), 'MaxCycleProduction': 185, 'TotalProduction': 1987564, 'CurrentTotalProduced': 0, 'CurrentTotalError': 0, 'CsvCycle': 15}]\n"
     ]
    }
   ],
   "source": [
    "print(configuration)"
   ]
  },
  {
   "cell_type": "code",
   "execution_count": 10,
   "id": "e2ce652d-ba14-45d7-9a72-cb324d2f288b",
   "metadata": {},
   "outputs": [],
   "source": [
    "def stopping_condition():\n",
    "    control = True\n",
    "    for stop_condition in stopper:\n",
    "        control = control and stop_condition['IsStop']\n",
    "    return control  "
   ]
  },
  {
   "cell_type": "code",
   "execution_count": 11,
   "id": "47d6eda8-6c9e-495c-b4ef-dc0ab87511c1",
   "metadata": {},
   "outputs": [],
   "source": [
    "def generate_value(max_production, is_lower_prdouction_rate):\n",
    "    range = max_production if not is_lower_prdouction_rate else int(40)\n",
    "    generated_value = random.randrange(range)\n",
    "    return generated_value if generated_value > 0 else 17"
   ]
  },
  {
   "cell_type": "code",
   "execution_count": 12,
   "id": "08888ff4-071f-4a22-82f3-8bb4e2fb6d04",
   "metadata": {},
   "outputs": [],
   "source": [
    "def write_to_csv(batch_name, file_id, dataframe):\n",
    "    print(dataframe)\n",
    "    file_name = 'Generated/' + batch_name + '_' + str(file_id) + '.csv'\n",
    "    dataframe.to_csv(file_name, encoding='utf-8')"
   ]
  },
  {
   "cell_type": "code",
   "execution_count": 13,
   "id": "01257598-a1c5-4b14-9c66-4f0a121b4c1e",
   "metadata": {},
   "outputs": [],
   "source": [
    "# add zeroes to current generated data\n",
    "def add_zeroes(df, batch_name, start_time, sample_size):\n",
    "    for i in range(sample_size):\n",
    "        df.loc[len(df)] = [batch_name, product, tag200, start_time, 0]\n",
    "        has_error_value = random.getrandbits(1)\n",
    "        if has_error_value:\n",
    "            df.loc[len(df)] = [batch_name, product, tag202, start_time, 0]\n",
    "        start_time = start_time + datetime.timedelta(seconds=60)   "
   ]
  },
  {
   "cell_type": "code",
   "execution_count": 14,
   "id": "70fb7b37-3ed3-47d6-a55d-69426a47e9c8",
   "metadata": {},
   "outputs": [],
   "source": [
    "def same_time_stamp_different_value(df, conf, timestamp, is_lower_production_rate, current_production):\n",
    "    gen1 = generate_value(conf['MaxCycleProduction'], is_lower_production_rate)\n",
    "    gen2 =generate_value(conf['MaxCycleProduction'], is_lower_production_rate)\n",
    "    df.loc[len(df)] = [conf['Batch'], product, tag200, timestamp, current_production + gen1]\n",
    "    df.loc[len(df)] = [conf['Batch'], product, tag200, timestamp, current_production + gen2]\n",
    "    if gen1 > gen2:\n",
    "        conf['CurrentTotalProduced'] = conf['CurrentTotalProduced'] + gen1\n",
    "        current_production += gen1\n",
    "    else:\n",
    "        conf['CurrentTotalProduced'] = conf['CurrentTotalProduced'] + gen2\n",
    "        current_production += gen2\n",
    "    return current_production"
   ]
  },
  {
   "cell_type": "code",
   "execution_count": 15,
   "id": "da70eb26-5a00-4755-bf49-8cbf81057377",
   "metadata": {},
   "outputs": [],
   "source": [
    "def same_value_different_timestamp(df, conf, timestamp, is_lower_production_rate, current_production):\n",
    "    gen = generate_value(conf['MaxCycleProduction'], is_lower_production_rate)\n",
    "    df.loc[len(df)] = [conf['Batch'], product, tag200, timestamp, current_production + gen]\n",
    "    timestamp = timestamp + datetime.timedelta(seconds=60)\n",
    "    df.loc[len(df)] = [conf['Batch'], product, tag200, timestamp, current_production+ gen]\n",
    "    conf['CurrentTotalProduced'] = conf['CurrentTotalProduced'] + gen\n",
    "    return current_production + gen"
   ]
  },
  {
   "cell_type": "code",
   "execution_count": 16,
   "id": "8c6484b8-bde8-44f3-b2b0-55fe53dfc4e5",
   "metadata": {},
   "outputs": [],
   "source": [
    "def generate_data_for_batch(conf):\n",
    "    df = pd.DataFrame(columns = ['BATCH_ID', 'PRODUCT_ID', 'TAG_ID', 'TIMESTAMP', 'VALUE'])\n",
    "    excel_file_no = 1\n",
    "    current_size = 0\n",
    "    current_error = 0\n",
    "    number_of_stoppers = conf['NumberOfStops']\n",
    "    stop_portion_size = int(conf['TotalProduction'] / number_of_stoppers)\n",
    "    next_dt = conf['StartDateTime']\n",
    "    # Add initial zeroes to batch \n",
    "    add_zeroes(df, conf['Batch'], next_dt, random.randrange(20))\n",
    "    start_error = 0\n",
    "    while conf['CurrentTotalProduced'] <= conf['TotalProduction']:\n",
    "        if conf['CsvCycle'] > 1 and conf['TotalProduction'] / conf['CsvCycle'] * excel_file_no <= conf['CurrentTotalProduced']:\n",
    "            print('Flush to CSV file')\n",
    "            write_to_csv(conf['Batch'], excel_file_no, df)\n",
    "            excel_file_no += 1\n",
    "        # For first 2 production value do not generate error or get error in 50% of chance\n",
    "        has_error_value = random.getrandbits(1) and start_error > 2\n",
    "        # 60% chance has total production value\n",
    "        has_total_value = random.randrange(5) % 2 == 0\n",
    "        if start_error <= 2:\n",
    "            start_error += 1\n",
    "        # 10% of chance error value is greater than production\n",
    "        is_error_value_more_than_total = random.randrange(10) % 9 == 0\n",
    "        # first 10% of the production more prone to error and has lower production rate\n",
    "        is_lower_production_rate = conf['TotalProduction'] / conf['TotalProduction'] * 100 < 10\n",
    "        # 20% of the chance data has same timestamp for different values\n",
    "        has_same_timestamp = random.randrange(20) % 19 == 0\n",
    "        if has_same_timestamp:\n",
    "            current_size = same_time_stamp_different_value(df, conf, next_dt, is_lower_production_rate, current_size)\n",
    "        # 20% of chance same value with different timestamp\n",
    "        has_same_value = random.randrange(20) % 19 == 0\n",
    "        if  has_same_value:\n",
    "            current_size = same_value_different_timestamp(df, conf, next_dt, is_lower_production_rate, current_size)\n",
    "        if stop_portion_size < current_size:\n",
    "            current_size = 0\n",
    "            current_error = 0\n",
    "            add_zeroes(df, conf['Batch'], next_dt, 15)\n",
    "        if has_total_value:\n",
    "            gen = generate_value(conf['MaxCycleProduction'], is_lower_production_rate)\n",
    "            conf['CurrentTotalProduced'] = conf['CurrentTotalProduced'] + gen\n",
    "            current_size += gen\n",
    "            if gen > 0:\n",
    "                df.loc[len(df) - 1] = [conf['Batch'], product, tag200, next_dt, current_size]\n",
    "        if has_error_value:\n",
    "            error = generate_value(conf['MaxCycleProduction'] if is_lower_production_rate else int(conf['MaxCycleProduction'] / 3), is_lower_production_rate)\n",
    "            if error < gen and is_error_value_more_than_total:\n",
    "                error = gen + 10\n",
    "            conf['CurrentTotalError'] = conf['CurrentTotalError'] + error\n",
    "            current_error += error\n",
    "            if error > 0:\n",
    "                df.loc[len(df) - 1] = [conf['Batch'], product, tag202, next_dt, current_error]\n",
    "        next_dt = next_dt + datetime.timedelta(seconds=60)\n",
    "    #Add Final Zeroes\n",
    "    add_zeroes(df, conf['Batch'], next_dt, random.randrange(20))\n",
    "    write_to_csv(conf['Batch'], excel_file_no, df)"
   ]
  },
  {
   "cell_type": "code",
   "execution_count": 17,
   "id": "354a31c8-de19-47d8-9f14-10f1c9f0c229",
   "metadata": {},
   "outputs": [
    {
     "name": "stdout",
     "output_type": "stream",
     "text": [
      "{'Batch': 'ED1108', 'Stopped': True, 'NumberOfStops': 4, 'StartDateTime': datetime.datetime(2024, 6, 13, 18, 45), 'MaxCycleProduction': 185, 'TotalProduction': 1987564, 'CurrentTotalProduced': 0, 'CurrentTotalError': 0, 'CsvCycle': 15}\n",
      "Flush to CSV file\n",
      "    BATCH_ID                           PRODUCT_ID  \\\n",
      "0     ED1108  WFI+9mg/g NACL 1x0.70ml PFS DSF4 BD   \n",
      "1     ED1108  WFI+9mg/g NACL 1x0.70ml PFS DSF4 BD   \n",
      "2     ED1108  WFI+9mg/g NACL 1x0.70ml PFS DSF4 BD   \n",
      "3     ED1108  WFI+9mg/g NACL 1x0.70ml PFS DSF4 BD   \n",
      "4     ED1108  WFI+9mg/g NACL 1x0.70ml PFS DSF4 BD   \n",
      "..       ...                                  ...   \n",
      "659   ED1108  WFI+9mg/g NACL 1x0.70ml PFS DSF4 BD   \n",
      "660   ED1108  WFI+9mg/g NACL 1x0.70ml PFS DSF4 BD   \n",
      "661   ED1108  WFI+9mg/g NACL 1x0.70ml PFS DSF4 BD   \n",
      "662   ED1108  WFI+9mg/g NACL 1x0.70ml PFS DSF4 BD   \n",
      "663   ED1108  WFI+9mg/g NACL 1x0.70ml PFS DSF4 BD   \n",
      "\n",
      "                                TAG_ID           TIMESTAMP   VALUE  \n",
      "0    2570/Ma_B.SLV.Counter.Counter0200 2024-06-13 18:45:00       0  \n",
      "1    2570/Ma_B.SLV.Counter.Counter0202 2024-06-13 18:45:00       0  \n",
      "2    2570/Ma_B.SLV.Counter.Counter0200 2024-06-13 18:46:00       0  \n",
      "3    2570/Ma_B.SLV.Counter.Counter0200 2024-06-13 18:47:00       0  \n",
      "4    2570/Ma_B.SLV.Counter.Counter0200 2024-06-13 18:48:00       0  \n",
      "..                                 ...                 ...     ...  \n",
      "659  2570/Ma_B.SLV.Counter.Counter0202 2024-06-14 23:25:00   38942  \n",
      "660  2570/Ma_B.SLV.Counter.Counter0200 2024-06-14 23:26:00  132042  \n",
      "661  2570/Ma_B.SLV.Counter.Counter0200 2024-06-14 23:28:00  132360  \n",
      "662  2570/Ma_B.SLV.Counter.Counter0200 2024-06-14 23:29:00  132367  \n",
      "663  2570/Ma_B.SLV.Counter.Counter0200 2024-06-14 23:29:00  132534  \n",
      "\n",
      "[664 rows x 5 columns]\n",
      "Flush to CSV file\n",
      "     BATCH_ID                           PRODUCT_ID  \\\n",
      "0      ED1108  WFI+9mg/g NACL 1x0.70ml PFS DSF4 BD   \n",
      "1      ED1108  WFI+9mg/g NACL 1x0.70ml PFS DSF4 BD   \n",
      "2      ED1108  WFI+9mg/g NACL 1x0.70ml PFS DSF4 BD   \n",
      "3      ED1108  WFI+9mg/g NACL 1x0.70ml PFS DSF4 BD   \n",
      "4      ED1108  WFI+9mg/g NACL 1x0.70ml PFS DSF4 BD   \n",
      "...       ...                                  ...   \n",
      "1277   ED1108  WFI+9mg/g NACL 1x0.70ml PFS DSF4 BD   \n",
      "1278   ED1108  WFI+9mg/g NACL 1x0.70ml PFS DSF4 BD   \n",
      "1279   ED1108  WFI+9mg/g NACL 1x0.70ml PFS DSF4 BD   \n",
      "1280   ED1108  WFI+9mg/g NACL 1x0.70ml PFS DSF4 BD   \n",
      "1281   ED1108  WFI+9mg/g NACL 1x0.70ml PFS DSF4 BD   \n",
      "\n",
      "                                 TAG_ID           TIMESTAMP   VALUE  \n",
      "0     2570/Ma_B.SLV.Counter.Counter0200 2024-06-13 18:45:00       0  \n",
      "1     2570/Ma_B.SLV.Counter.Counter0202 2024-06-13 18:45:00       0  \n",
      "2     2570/Ma_B.SLV.Counter.Counter0200 2024-06-13 18:46:00       0  \n",
      "3     2570/Ma_B.SLV.Counter.Counter0200 2024-06-13 18:47:00       0  \n",
      "4     2570/Ma_B.SLV.Counter.Counter0200 2024-06-13 18:48:00       0  \n",
      "...                                 ...                 ...     ...  \n",
      "1277  2570/Ma_B.SLV.Counter.Counter0200 2024-06-16 04:59:00  263756  \n",
      "1278  2570/Ma_B.SLV.Counter.Counter0200 2024-06-16 05:00:00  263934  \n",
      "1279  2570/Ma_B.SLV.Counter.Counter0202 2024-06-16 05:06:00   78640  \n",
      "1280  2570/Ma_B.SLV.Counter.Counter0200 2024-06-16 05:08:00  264297  \n",
      "1281  2570/Ma_B.SLV.Counter.Counter0200 2024-06-16 05:13:00  265013  \n",
      "\n",
      "[1282 rows x 5 columns]\n",
      "Flush to CSV file\n",
      "     BATCH_ID                           PRODUCT_ID  \\\n",
      "0      ED1108  WFI+9mg/g NACL 1x0.70ml PFS DSF4 BD   \n",
      "1      ED1108  WFI+9mg/g NACL 1x0.70ml PFS DSF4 BD   \n",
      "2      ED1108  WFI+9mg/g NACL 1x0.70ml PFS DSF4 BD   \n",
      "3      ED1108  WFI+9mg/g NACL 1x0.70ml PFS DSF4 BD   \n",
      "4      ED1108  WFI+9mg/g NACL 1x0.70ml PFS DSF4 BD   \n",
      "...       ...                                  ...   \n",
      "1995   ED1108  WFI+9mg/g NACL 1x0.70ml PFS DSF4 BD   \n",
      "1996   ED1108  WFI+9mg/g NACL 1x0.70ml PFS DSF4 BD   \n",
      "1997   ED1108  WFI+9mg/g NACL 1x0.70ml PFS DSF4 BD   \n",
      "1998   ED1108  WFI+9mg/g NACL 1x0.70ml PFS DSF4 BD   \n",
      "1999   ED1108  WFI+9mg/g NACL 1x0.70ml PFS DSF4 BD   \n",
      "\n",
      "                                 TAG_ID           TIMESTAMP   VALUE  \n",
      "0     2570/Ma_B.SLV.Counter.Counter0200 2024-06-13 18:45:00       0  \n",
      "1     2570/Ma_B.SLV.Counter.Counter0202 2024-06-13 18:45:00       0  \n",
      "2     2570/Ma_B.SLV.Counter.Counter0200 2024-06-13 18:46:00       0  \n",
      "3     2570/Ma_B.SLV.Counter.Counter0200 2024-06-13 18:47:00       0  \n",
      "4     2570/Ma_B.SLV.Counter.Counter0200 2024-06-13 18:48:00       0  \n",
      "...                                 ...                 ...     ...  \n",
      "1995  2570/Ma_B.SLV.Counter.Counter0200 2024-06-17 08:24:00  396995  \n",
      "1996  2570/Ma_B.SLV.Counter.Counter0200 2024-06-17 08:25:00  397045  \n",
      "1997  2570/Ma_B.SLV.Counter.Counter0202 2024-06-17 08:29:00  114731  \n",
      "1998  2570/Ma_B.SLV.Counter.Counter0200 2024-06-17 08:30:00  397493  \n",
      "1999  2570/Ma_B.SLV.Counter.Counter0200 2024-06-17 08:30:00  397623  \n",
      "\n",
      "[2000 rows x 5 columns]\n",
      "Flush to CSV file\n",
      "     BATCH_ID                           PRODUCT_ID  \\\n",
      "0      ED1108  WFI+9mg/g NACL 1x0.70ml PFS DSF4 BD   \n",
      "1      ED1108  WFI+9mg/g NACL 1x0.70ml PFS DSF4 BD   \n",
      "2      ED1108  WFI+9mg/g NACL 1x0.70ml PFS DSF4 BD   \n",
      "3      ED1108  WFI+9mg/g NACL 1x0.70ml PFS DSF4 BD   \n",
      "4      ED1108  WFI+9mg/g NACL 1x0.70ml PFS DSF4 BD   \n",
      "...       ...                                  ...   \n",
      "2708   ED1108  WFI+9mg/g NACL 1x0.70ml PFS DSF4 BD   \n",
      "2709   ED1108  WFI+9mg/g NACL 1x0.70ml PFS DSF4 BD   \n",
      "2710   ED1108  WFI+9mg/g NACL 1x0.70ml PFS DSF4 BD   \n",
      "2711   ED1108  WFI+9mg/g NACL 1x0.70ml PFS DSF4 BD   \n",
      "2712   ED1108  WFI+9mg/g NACL 1x0.70ml PFS DSF4 BD   \n",
      "\n",
      "                                 TAG_ID           TIMESTAMP  VALUE  \n",
      "0     2570/Ma_B.SLV.Counter.Counter0200 2024-06-13 18:45:00      0  \n",
      "1     2570/Ma_B.SLV.Counter.Counter0202 2024-06-13 18:45:00      0  \n",
      "2     2570/Ma_B.SLV.Counter.Counter0200 2024-06-13 18:46:00      0  \n",
      "3     2570/Ma_B.SLV.Counter.Counter0200 2024-06-13 18:47:00      0  \n",
      "4     2570/Ma_B.SLV.Counter.Counter0200 2024-06-13 18:48:00      0  \n",
      "...                                 ...                 ...    ...  \n",
      "2708  2570/Ma_B.SLV.Counter.Counter0200 2024-06-18 14:25:00  32235  \n",
      "2709  2570/Ma_B.SLV.Counter.Counter0200 2024-06-18 14:25:00  32463  \n",
      "2710  2570/Ma_B.SLV.Counter.Counter0202 2024-06-18 14:29:00   9990  \n",
      "2711  2570/Ma_B.SLV.Counter.Counter0200 2024-06-18 14:30:00  32808  \n",
      "2712  2570/Ma_B.SLV.Counter.Counter0202 2024-06-18 14:32:00  10304  \n",
      "\n",
      "[2713 rows x 5 columns]\n",
      "Flush to CSV file\n",
      "     BATCH_ID                           PRODUCT_ID  \\\n",
      "0      ED1108  WFI+9mg/g NACL 1x0.70ml PFS DSF4 BD   \n",
      "1      ED1108  WFI+9mg/g NACL 1x0.70ml PFS DSF4 BD   \n",
      "2      ED1108  WFI+9mg/g NACL 1x0.70ml PFS DSF4 BD   \n",
      "3      ED1108  WFI+9mg/g NACL 1x0.70ml PFS DSF4 BD   \n",
      "4      ED1108  WFI+9mg/g NACL 1x0.70ml PFS DSF4 BD   \n",
      "...       ...                                  ...   \n",
      "3380   ED1108  WFI+9mg/g NACL 1x0.70ml PFS DSF4 BD   \n",
      "3381   ED1108  WFI+9mg/g NACL 1x0.70ml PFS DSF4 BD   \n",
      "3382   ED1108  WFI+9mg/g NACL 1x0.70ml PFS DSF4 BD   \n",
      "3383   ED1108  WFI+9mg/g NACL 1x0.70ml PFS DSF4 BD   \n",
      "3384   ED1108  WFI+9mg/g NACL 1x0.70ml PFS DSF4 BD   \n",
      "\n",
      "                                 TAG_ID           TIMESTAMP   VALUE  \n",
      "0     2570/Ma_B.SLV.Counter.Counter0200 2024-06-13 18:45:00       0  \n",
      "1     2570/Ma_B.SLV.Counter.Counter0202 2024-06-13 18:45:00       0  \n",
      "2     2570/Ma_B.SLV.Counter.Counter0200 2024-06-13 18:46:00       0  \n",
      "3     2570/Ma_B.SLV.Counter.Counter0200 2024-06-13 18:47:00       0  \n",
      "4     2570/Ma_B.SLV.Counter.Counter0200 2024-06-13 18:48:00       0  \n",
      "...                                 ...                 ...     ...  \n",
      "3380  2570/Ma_B.SLV.Counter.Counter0200 2024-06-19 21:56:00  165362  \n",
      "3381  2570/Ma_B.SLV.Counter.Counter0200 2024-06-19 21:58:00  165437  \n",
      "3382  2570/Ma_B.SLV.Counter.Counter0202 2024-06-19 21:58:00   53701  \n",
      "3383  2570/Ma_B.SLV.Counter.Counter0200 2024-06-19 21:59:00  165482  \n",
      "3384  2570/Ma_B.SLV.Counter.Counter0202 2024-06-19 22:02:00   53727  \n",
      "\n",
      "[3385 rows x 5 columns]\n",
      "Flush to CSV file\n",
      "     BATCH_ID                           PRODUCT_ID  \\\n",
      "0      ED1108  WFI+9mg/g NACL 1x0.70ml PFS DSF4 BD   \n",
      "1      ED1108  WFI+9mg/g NACL 1x0.70ml PFS DSF4 BD   \n",
      "2      ED1108  WFI+9mg/g NACL 1x0.70ml PFS DSF4 BD   \n",
      "3      ED1108  WFI+9mg/g NACL 1x0.70ml PFS DSF4 BD   \n",
      "4      ED1108  WFI+9mg/g NACL 1x0.70ml PFS DSF4 BD   \n",
      "...       ...                                  ...   \n",
      "4056   ED1108  WFI+9mg/g NACL 1x0.70ml PFS DSF4 BD   \n",
      "4057   ED1108  WFI+9mg/g NACL 1x0.70ml PFS DSF4 BD   \n",
      "4058   ED1108  WFI+9mg/g NACL 1x0.70ml PFS DSF4 BD   \n",
      "4059   ED1108  WFI+9mg/g NACL 1x0.70ml PFS DSF4 BD   \n",
      "4060   ED1108  WFI+9mg/g NACL 1x0.70ml PFS DSF4 BD   \n",
      "\n",
      "                                 TAG_ID           TIMESTAMP   VALUE  \n",
      "0     2570/Ma_B.SLV.Counter.Counter0200 2024-06-13 18:45:00       0  \n",
      "1     2570/Ma_B.SLV.Counter.Counter0202 2024-06-13 18:45:00       0  \n",
      "2     2570/Ma_B.SLV.Counter.Counter0200 2024-06-13 18:46:00       0  \n",
      "3     2570/Ma_B.SLV.Counter.Counter0200 2024-06-13 18:47:00       0  \n",
      "4     2570/Ma_B.SLV.Counter.Counter0200 2024-06-13 18:48:00       0  \n",
      "...                                 ...                 ...     ...  \n",
      "4056  2570/Ma_B.SLV.Counter.Counter0200 2024-06-21 03:14:00  297837  \n",
      "4057  2570/Ma_B.SLV.Counter.Counter0200 2024-06-21 03:15:00  297866  \n",
      "4058  2570/Ma_B.SLV.Counter.Counter0202 2024-06-21 03:16:00   89506  \n",
      "4059  2570/Ma_B.SLV.Counter.Counter0200 2024-06-21 03:17:00  298106  \n",
      "4060  2570/Ma_B.SLV.Counter.Counter0202 2024-06-21 03:17:00   89534  \n",
      "\n",
      "[4061 rows x 5 columns]\n",
      "Flush to CSV file\n",
      "     BATCH_ID                           PRODUCT_ID  \\\n",
      "0      ED1108  WFI+9mg/g NACL 1x0.70ml PFS DSF4 BD   \n",
      "1      ED1108  WFI+9mg/g NACL 1x0.70ml PFS DSF4 BD   \n",
      "2      ED1108  WFI+9mg/g NACL 1x0.70ml PFS DSF4 BD   \n",
      "3      ED1108  WFI+9mg/g NACL 1x0.70ml PFS DSF4 BD   \n",
      "4      ED1108  WFI+9mg/g NACL 1x0.70ml PFS DSF4 BD   \n",
      "...       ...                                  ...   \n",
      "4752   ED1108  WFI+9mg/g NACL 1x0.70ml PFS DSF4 BD   \n",
      "4753   ED1108  WFI+9mg/g NACL 1x0.70ml PFS DSF4 BD   \n",
      "4754   ED1108  WFI+9mg/g NACL 1x0.70ml PFS DSF4 BD   \n",
      "4755   ED1108  WFI+9mg/g NACL 1x0.70ml PFS DSF4 BD   \n",
      "4756   ED1108  WFI+9mg/g NACL 1x0.70ml PFS DSF4 BD   \n",
      "\n",
      "                                 TAG_ID           TIMESTAMP   VALUE  \n",
      "0     2570/Ma_B.SLV.Counter.Counter0200 2024-06-13 18:45:00       0  \n",
      "1     2570/Ma_B.SLV.Counter.Counter0202 2024-06-13 18:45:00       0  \n",
      "2     2570/Ma_B.SLV.Counter.Counter0200 2024-06-13 18:46:00       0  \n",
      "3     2570/Ma_B.SLV.Counter.Counter0200 2024-06-13 18:47:00       0  \n",
      "4     2570/Ma_B.SLV.Counter.Counter0200 2024-06-13 18:48:00       0  \n",
      "...                                 ...                 ...     ...  \n",
      "4752  2570/Ma_B.SLV.Counter.Counter0200 2024-06-22 08:08:00  430069  \n",
      "4753  2570/Ma_B.SLV.Counter.Counter0200 2024-06-22 08:09:00  430146  \n",
      "4754  2570/Ma_B.SLV.Counter.Counter0202 2024-06-22 08:09:00  127273  \n",
      "4755  2570/Ma_B.SLV.Counter.Counter0200 2024-06-22 08:10:00  430220  \n",
      "4756  2570/Ma_B.SLV.Counter.Counter0200 2024-06-22 08:13:00  430693  \n",
      "\n",
      "[4757 rows x 5 columns]\n",
      "Flush to CSV file\n",
      "     BATCH_ID                           PRODUCT_ID  \\\n",
      "0      ED1108  WFI+9mg/g NACL 1x0.70ml PFS DSF4 BD   \n",
      "1      ED1108  WFI+9mg/g NACL 1x0.70ml PFS DSF4 BD   \n",
      "2      ED1108  WFI+9mg/g NACL 1x0.70ml PFS DSF4 BD   \n",
      "3      ED1108  WFI+9mg/g NACL 1x0.70ml PFS DSF4 BD   \n",
      "4      ED1108  WFI+9mg/g NACL 1x0.70ml PFS DSF4 BD   \n",
      "...       ...                                  ...   \n",
      "5476   ED1108  WFI+9mg/g NACL 1x0.70ml PFS DSF4 BD   \n",
      "5477   ED1108  WFI+9mg/g NACL 1x0.70ml PFS DSF4 BD   \n",
      "5478   ED1108  WFI+9mg/g NACL 1x0.70ml PFS DSF4 BD   \n",
      "5479   ED1108  WFI+9mg/g NACL 1x0.70ml PFS DSF4 BD   \n",
      "5480   ED1108  WFI+9mg/g NACL 1x0.70ml PFS DSF4 BD   \n",
      "\n",
      "                                 TAG_ID           TIMESTAMP  VALUE  \n",
      "0     2570/Ma_B.SLV.Counter.Counter0200 2024-06-13 18:45:00      0  \n",
      "1     2570/Ma_B.SLV.Counter.Counter0202 2024-06-13 18:45:00      0  \n",
      "2     2570/Ma_B.SLV.Counter.Counter0200 2024-06-13 18:46:00      0  \n",
      "3     2570/Ma_B.SLV.Counter.Counter0200 2024-06-13 18:47:00      0  \n",
      "4     2570/Ma_B.SLV.Counter.Counter0200 2024-06-13 18:48:00      0  \n",
      "...                                 ...                 ...    ...  \n",
      "5476  2570/Ma_B.SLV.Counter.Counter0202 2024-06-23 12:17:00  19092  \n",
      "5477  2570/Ma_B.SLV.Counter.Counter0200 2024-06-23 12:18:00  65774  \n",
      "5478  2570/Ma_B.SLV.Counter.Counter0200 2024-06-23 12:21:00  66015  \n",
      "5479  2570/Ma_B.SLV.Counter.Counter0200 2024-06-23 12:22:00  66183  \n",
      "5480  2570/Ma_B.SLV.Counter.Counter0200 2024-06-23 12:22:00  66251  \n",
      "\n",
      "[5481 rows x 5 columns]\n",
      "Flush to CSV file\n",
      "     BATCH_ID                           PRODUCT_ID  \\\n",
      "0      ED1108  WFI+9mg/g NACL 1x0.70ml PFS DSF4 BD   \n",
      "1      ED1108  WFI+9mg/g NACL 1x0.70ml PFS DSF4 BD   \n",
      "2      ED1108  WFI+9mg/g NACL 1x0.70ml PFS DSF4 BD   \n",
      "3      ED1108  WFI+9mg/g NACL 1x0.70ml PFS DSF4 BD   \n",
      "4      ED1108  WFI+9mg/g NACL 1x0.70ml PFS DSF4 BD   \n",
      "...       ...                                  ...   \n",
      "6180   ED1108  WFI+9mg/g NACL 1x0.70ml PFS DSF4 BD   \n",
      "6181   ED1108  WFI+9mg/g NACL 1x0.70ml PFS DSF4 BD   \n",
      "6182   ED1108  WFI+9mg/g NACL 1x0.70ml PFS DSF4 BD   \n",
      "6183   ED1108  WFI+9mg/g NACL 1x0.70ml PFS DSF4 BD   \n",
      "6184   ED1108  WFI+9mg/g NACL 1x0.70ml PFS DSF4 BD   \n",
      "\n",
      "                                 TAG_ID           TIMESTAMP   VALUE  \n",
      "0     2570/Ma_B.SLV.Counter.Counter0200 2024-06-13 18:45:00       0  \n",
      "1     2570/Ma_B.SLV.Counter.Counter0202 2024-06-13 18:45:00       0  \n",
      "2     2570/Ma_B.SLV.Counter.Counter0200 2024-06-13 18:46:00       0  \n",
      "3     2570/Ma_B.SLV.Counter.Counter0200 2024-06-13 18:47:00       0  \n",
      "4     2570/Ma_B.SLV.Counter.Counter0200 2024-06-13 18:48:00       0  \n",
      "...                                 ...                 ...     ...  \n",
      "6180  2570/Ma_B.SLV.Counter.Counter0202 2024-06-24 17:25:00   58186  \n",
      "6181  2570/Ma_B.SLV.Counter.Counter0200 2024-06-24 17:26:00  198448  \n",
      "6182  2570/Ma_B.SLV.Counter.Counter0202 2024-06-24 17:27:00   58203  \n",
      "6183  2570/Ma_B.SLV.Counter.Counter0200 2024-06-24 17:28:00  198470  \n",
      "6184  2570/Ma_B.SLV.Counter.Counter0202 2024-06-24 17:29:00   58222  \n",
      "\n",
      "[6185 rows x 5 columns]\n",
      "Flush to CSV file\n",
      "     BATCH_ID                           PRODUCT_ID  \\\n",
      "0      ED1108  WFI+9mg/g NACL 1x0.70ml PFS DSF4 BD   \n",
      "1      ED1108  WFI+9mg/g NACL 1x0.70ml PFS DSF4 BD   \n",
      "2      ED1108  WFI+9mg/g NACL 1x0.70ml PFS DSF4 BD   \n",
      "3      ED1108  WFI+9mg/g NACL 1x0.70ml PFS DSF4 BD   \n",
      "4      ED1108  WFI+9mg/g NACL 1x0.70ml PFS DSF4 BD   \n",
      "...       ...                                  ...   \n",
      "6864   ED1108  WFI+9mg/g NACL 1x0.70ml PFS DSF4 BD   \n",
      "6865   ED1108  WFI+9mg/g NACL 1x0.70ml PFS DSF4 BD   \n",
      "6866   ED1108  WFI+9mg/g NACL 1x0.70ml PFS DSF4 BD   \n",
      "6867   ED1108  WFI+9mg/g NACL 1x0.70ml PFS DSF4 BD   \n",
      "6868   ED1108  WFI+9mg/g NACL 1x0.70ml PFS DSF4 BD   \n",
      "\n",
      "                                 TAG_ID           TIMESTAMP   VALUE  \n",
      "0     2570/Ma_B.SLV.Counter.Counter0200 2024-06-13 18:45:00       0  \n",
      "1     2570/Ma_B.SLV.Counter.Counter0202 2024-06-13 18:45:00       0  \n",
      "2     2570/Ma_B.SLV.Counter.Counter0200 2024-06-13 18:46:00       0  \n",
      "3     2570/Ma_B.SLV.Counter.Counter0200 2024-06-13 18:47:00       0  \n",
      "4     2570/Ma_B.SLV.Counter.Counter0200 2024-06-13 18:48:00       0  \n",
      "...                                 ...                 ...     ...  \n",
      "6864  2570/Ma_B.SLV.Counter.Counter0202 2024-06-25 22:51:00   97672  \n",
      "6865  2570/Ma_B.SLV.Counter.Counter0200 2024-06-25 22:52:00  330744  \n",
      "6866  2570/Ma_B.SLV.Counter.Counter0200 2024-06-25 22:52:00  330870  \n",
      "6867  2570/Ma_B.SLV.Counter.Counter0200 2024-06-25 22:52:00  331043  \n",
      "6868  2570/Ma_B.SLV.Counter.Counter0200 2024-06-25 22:53:00  331202  \n",
      "\n",
      "[6869 rows x 5 columns]\n",
      "Flush to CSV file\n",
      "     BATCH_ID                           PRODUCT_ID  \\\n",
      "0      ED1108  WFI+9mg/g NACL 1x0.70ml PFS DSF4 BD   \n",
      "1      ED1108  WFI+9mg/g NACL 1x0.70ml PFS DSF4 BD   \n",
      "2      ED1108  WFI+9mg/g NACL 1x0.70ml PFS DSF4 BD   \n",
      "3      ED1108  WFI+9mg/g NACL 1x0.70ml PFS DSF4 BD   \n",
      "4      ED1108  WFI+9mg/g NACL 1x0.70ml PFS DSF4 BD   \n",
      "...       ...                                  ...   \n",
      "7570   ED1108  WFI+9mg/g NACL 1x0.70ml PFS DSF4 BD   \n",
      "7571   ED1108  WFI+9mg/g NACL 1x0.70ml PFS DSF4 BD   \n",
      "7572   ED1108  WFI+9mg/g NACL 1x0.70ml PFS DSF4 BD   \n",
      "7573   ED1108  WFI+9mg/g NACL 1x0.70ml PFS DSF4 BD   \n",
      "7574   ED1108  WFI+9mg/g NACL 1x0.70ml PFS DSF4 BD   \n",
      "\n",
      "                                 TAG_ID           TIMESTAMP   VALUE  \n",
      "0     2570/Ma_B.SLV.Counter.Counter0200 2024-06-13 18:45:00       0  \n",
      "1     2570/Ma_B.SLV.Counter.Counter0202 2024-06-13 18:45:00       0  \n",
      "2     2570/Ma_B.SLV.Counter.Counter0200 2024-06-13 18:46:00       0  \n",
      "3     2570/Ma_B.SLV.Counter.Counter0200 2024-06-13 18:47:00       0  \n",
      "4     2570/Ma_B.SLV.Counter.Counter0200 2024-06-13 18:48:00       0  \n",
      "...                                 ...                 ...     ...  \n",
      "7570  2570/Ma_B.SLV.Counter.Counter0202 2024-06-27 02:36:00  136354  \n",
      "7571  2570/Ma_B.SLV.Counter.Counter0200 2024-06-27 02:37:00  462798  \n",
      "7572  2570/Ma_B.SLV.Counter.Counter0200 2024-06-27 02:38:00  462904  \n",
      "7573  2570/Ma_B.SLV.Counter.Counter0200 2024-06-27 02:39:00  462960  \n",
      "7574  2570/Ma_B.SLV.Counter.Counter0200 2024-06-27 02:48:00  463683  \n",
      "\n",
      "[7575 rows x 5 columns]\n",
      "Flush to CSV file\n",
      "     BATCH_ID                           PRODUCT_ID  \\\n",
      "0      ED1108  WFI+9mg/g NACL 1x0.70ml PFS DSF4 BD   \n",
      "1      ED1108  WFI+9mg/g NACL 1x0.70ml PFS DSF4 BD   \n",
      "2      ED1108  WFI+9mg/g NACL 1x0.70ml PFS DSF4 BD   \n",
      "3      ED1108  WFI+9mg/g NACL 1x0.70ml PFS DSF4 BD   \n",
      "4      ED1108  WFI+9mg/g NACL 1x0.70ml PFS DSF4 BD   \n",
      "...       ...                                  ...   \n",
      "8268   ED1108  WFI+9mg/g NACL 1x0.70ml PFS DSF4 BD   \n",
      "8269   ED1108  WFI+9mg/g NACL 1x0.70ml PFS DSF4 BD   \n",
      "8270   ED1108  WFI+9mg/g NACL 1x0.70ml PFS DSF4 BD   \n",
      "8271   ED1108  WFI+9mg/g NACL 1x0.70ml PFS DSF4 BD   \n",
      "8272   ED1108  WFI+9mg/g NACL 1x0.70ml PFS DSF4 BD   \n",
      "\n",
      "                                 TAG_ID           TIMESTAMP  VALUE  \n",
      "0     2570/Ma_B.SLV.Counter.Counter0200 2024-06-13 18:45:00      0  \n",
      "1     2570/Ma_B.SLV.Counter.Counter0202 2024-06-13 18:45:00      0  \n",
      "2     2570/Ma_B.SLV.Counter.Counter0200 2024-06-13 18:46:00      0  \n",
      "3     2570/Ma_B.SLV.Counter.Counter0200 2024-06-13 18:47:00      0  \n",
      "4     2570/Ma_B.SLV.Counter.Counter0200 2024-06-13 18:48:00      0  \n",
      "...                                 ...                 ...    ...  \n",
      "8268  2570/Ma_B.SLV.Counter.Counter0202 2024-06-28 06:52:00  25089  \n",
      "8269  2570/Ma_B.SLV.Counter.Counter0200 2024-06-28 06:53:00  99007  \n",
      "8270  2570/Ma_B.SLV.Counter.Counter0202 2024-06-28 06:54:00  25136  \n",
      "8271  2570/Ma_B.SLV.Counter.Counter0200 2024-06-28 06:55:00  99119  \n",
      "8272  2570/Ma_B.SLV.Counter.Counter0200 2024-06-28 06:56:00  99263  \n",
      "\n",
      "[8273 rows x 5 columns]\n",
      "Flush to CSV file\n",
      "     BATCH_ID                           PRODUCT_ID  \\\n",
      "0      ED1108  WFI+9mg/g NACL 1x0.70ml PFS DSF4 BD   \n",
      "1      ED1108  WFI+9mg/g NACL 1x0.70ml PFS DSF4 BD   \n",
      "2      ED1108  WFI+9mg/g NACL 1x0.70ml PFS DSF4 BD   \n",
      "3      ED1108  WFI+9mg/g NACL 1x0.70ml PFS DSF4 BD   \n",
      "4      ED1108  WFI+9mg/g NACL 1x0.70ml PFS DSF4 BD   \n",
      "...       ...                                  ...   \n",
      "8942   ED1108  WFI+9mg/g NACL 1x0.70ml PFS DSF4 BD   \n",
      "8943   ED1108  WFI+9mg/g NACL 1x0.70ml PFS DSF4 BD   \n",
      "8944   ED1108  WFI+9mg/g NACL 1x0.70ml PFS DSF4 BD   \n",
      "8945   ED1108  WFI+9mg/g NACL 1x0.70ml PFS DSF4 BD   \n",
      "8946   ED1108  WFI+9mg/g NACL 1x0.70ml PFS DSF4 BD   \n",
      "\n",
      "                                 TAG_ID           TIMESTAMP   VALUE  \n",
      "0     2570/Ma_B.SLV.Counter.Counter0200 2024-06-13 18:45:00       0  \n",
      "1     2570/Ma_B.SLV.Counter.Counter0202 2024-06-13 18:45:00       0  \n",
      "2     2570/Ma_B.SLV.Counter.Counter0200 2024-06-13 18:46:00       0  \n",
      "3     2570/Ma_B.SLV.Counter.Counter0200 2024-06-13 18:47:00       0  \n",
      "4     2570/Ma_B.SLV.Counter.Counter0200 2024-06-13 18:48:00       0  \n",
      "...                                 ...                 ...     ...  \n",
      "8942  2570/Ma_B.SLV.Counter.Counter0202 2024-06-29 09:52:00   61606  \n",
      "8943  2570/Ma_B.SLV.Counter.Counter0200 2024-06-29 09:53:00  230710  \n",
      "8944  2570/Ma_B.SLV.Counter.Counter0200 2024-06-29 09:57:00  231115  \n",
      "8945  2570/Ma_B.SLV.Counter.Counter0200 2024-06-29 09:59:00  231132  \n",
      "8946  2570/Ma_B.SLV.Counter.Counter0200 2024-06-29 10:05:00  231829  \n",
      "\n",
      "[8947 rows x 5 columns]\n",
      "Flush to CSV file\n",
      "     BATCH_ID                           PRODUCT_ID  \\\n",
      "0      ED1108  WFI+9mg/g NACL 1x0.70ml PFS DSF4 BD   \n",
      "1      ED1108  WFI+9mg/g NACL 1x0.70ml PFS DSF4 BD   \n",
      "2      ED1108  WFI+9mg/g NACL 1x0.70ml PFS DSF4 BD   \n",
      "3      ED1108  WFI+9mg/g NACL 1x0.70ml PFS DSF4 BD   \n",
      "4      ED1108  WFI+9mg/g NACL 1x0.70ml PFS DSF4 BD   \n",
      "...       ...                                  ...   \n",
      "9606   ED1108  WFI+9mg/g NACL 1x0.70ml PFS DSF4 BD   \n",
      "9607   ED1108  WFI+9mg/g NACL 1x0.70ml PFS DSF4 BD   \n",
      "9608   ED1108  WFI+9mg/g NACL 1x0.70ml PFS DSF4 BD   \n",
      "9609   ED1108  WFI+9mg/g NACL 1x0.70ml PFS DSF4 BD   \n",
      "9610   ED1108  WFI+9mg/g NACL 1x0.70ml PFS DSF4 BD   \n",
      "\n",
      "                                 TAG_ID           TIMESTAMP   VALUE  \n",
      "0     2570/Ma_B.SLV.Counter.Counter0200 2024-06-13 18:45:00       0  \n",
      "1     2570/Ma_B.SLV.Counter.Counter0202 2024-06-13 18:45:00       0  \n",
      "2     2570/Ma_B.SLV.Counter.Counter0200 2024-06-13 18:46:00       0  \n",
      "3     2570/Ma_B.SLV.Counter.Counter0200 2024-06-13 18:47:00       0  \n",
      "4     2570/Ma_B.SLV.Counter.Counter0200 2024-06-13 18:48:00       0  \n",
      "...                                 ...                 ...     ...  \n",
      "9606  2570/Ma_B.SLV.Counter.Counter0200 2024-06-30 13:54:00  363039  \n",
      "9607  2570/Ma_B.SLV.Counter.Counter0200 2024-06-30 13:55:00  363106  \n",
      "9608  2570/Ma_B.SLV.Counter.Counter0202 2024-06-30 14:05:00   97915  \n",
      "9609  2570/Ma_B.SLV.Counter.Counter0200 2024-06-30 14:06:00  364236  \n",
      "9610  2570/Ma_B.SLV.Counter.Counter0200 2024-06-30 14:06:00  364302  \n",
      "\n",
      "[9611 rows x 5 columns]\n",
      "      BATCH_ID                           PRODUCT_ID  \\\n",
      "0       ED1108  WFI+9mg/g NACL 1x0.70ml PFS DSF4 BD   \n",
      "1       ED1108  WFI+9mg/g NACL 1x0.70ml PFS DSF4 BD   \n",
      "2       ED1108  WFI+9mg/g NACL 1x0.70ml PFS DSF4 BD   \n",
      "3       ED1108  WFI+9mg/g NACL 1x0.70ml PFS DSF4 BD   \n",
      "4       ED1108  WFI+9mg/g NACL 1x0.70ml PFS DSF4 BD   \n",
      "...        ...                                  ...   \n",
      "10312   ED1108  WFI+9mg/g NACL 1x0.70ml PFS DSF4 BD   \n",
      "10313   ED1108  WFI+9mg/g NACL 1x0.70ml PFS DSF4 BD   \n",
      "10314   ED1108  WFI+9mg/g NACL 1x0.70ml PFS DSF4 BD   \n",
      "10315   ED1108  WFI+9mg/g NACL 1x0.70ml PFS DSF4 BD   \n",
      "10316   ED1108  WFI+9mg/g NACL 1x0.70ml PFS DSF4 BD   \n",
      "\n",
      "                                  TAG_ID           TIMESTAMP   VALUE  \n",
      "0      2570/Ma_B.SLV.Counter.Counter0200 2024-06-13 18:45:00       0  \n",
      "1      2570/Ma_B.SLV.Counter.Counter0202 2024-06-13 18:45:00       0  \n",
      "2      2570/Ma_B.SLV.Counter.Counter0200 2024-06-13 18:46:00       0  \n",
      "3      2570/Ma_B.SLV.Counter.Counter0200 2024-06-13 18:47:00       0  \n",
      "4      2570/Ma_B.SLV.Counter.Counter0200 2024-06-13 18:48:00       0  \n",
      "...                                  ...                 ...     ...  \n",
      "10312  2570/Ma_B.SLV.Counter.Counter0202 2024-07-01 17:15:00  138306  \n",
      "10313  2570/Ma_B.SLV.Counter.Counter0200 2024-07-01 17:16:00       0  \n",
      "10314  2570/Ma_B.SLV.Counter.Counter0200 2024-07-01 17:17:00       0  \n",
      "10315  2570/Ma_B.SLV.Counter.Counter0200 2024-07-01 17:18:00       0  \n",
      "10316  2570/Ma_B.SLV.Counter.Counter0200 2024-07-01 17:19:00       0  \n",
      "\n",
      "[10317 rows x 5 columns]\n"
     ]
    }
   ],
   "source": [
    "for conf in configuration:\n",
    "    print(conf)\n",
    "    conf['CurrentTotalProduced'] = 0\n",
    "    conf['CurrentTotalError'] = 0\n",
    "    generate_data_for_batch(conf)"
   ]
  },
  {
   "cell_type": "code",
   "execution_count": null,
   "id": "571b3c9e-52c0-4045-8564-e453c86f6155",
   "metadata": {},
   "outputs": [],
   "source": []
  }
 ],
 "metadata": {
  "kernelspec": {
   "display_name": "Python 3 (ipykernel)",
   "language": "python",
   "name": "python3"
  },
  "language_info": {
   "codemirror_mode": {
    "name": "ipython",
    "version": 3
   },
   "file_extension": ".py",
   "mimetype": "text/x-python",
   "name": "python",
   "nbconvert_exporter": "python",
   "pygments_lexer": "ipython3",
   "version": "3.12.3"
  }
 },
 "nbformat": 4,
 "nbformat_minor": 5
}
