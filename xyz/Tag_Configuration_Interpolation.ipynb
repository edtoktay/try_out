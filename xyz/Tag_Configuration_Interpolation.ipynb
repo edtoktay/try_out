{
 "cells": [
  {
   "cell_type": "markdown",
   "id": "6419cfbf-d258-4823-aa3b-28b0736edc5d",
   "metadata": {},
   "source": [
    "### Interpolation\n",
    "\n",
    "In numerical analysis, **interpolation** is type of estimation to construct new data point s based on the range of dicrete set of known data points. Linear interpolation (**LERP**) is the basic interpolation method to evaluate sample data based on a linear function."
   ]
  },
  {
   "cell_type": "code",
   "execution_count": 1,
   "id": "4f9a0d28-71a5-4d8d-aa13-29c6ff9a15f5",
   "metadata": {},
   "outputs": [
    {
     "name": "stdout",
     "output_type": "stream",
     "text": [
      "Overwriting interpolate-requirements.txt\n"
     ]
    }
   ],
   "source": [
    "%%writefile interpolate-requirements.txt\n",
    "pandas==2.2.1\n",
    "numpy==1.26.4\n",
    "pika==1.3.2"
   ]
  },
  {
   "cell_type": "code",
   "execution_count": 2,
   "id": "429a3aa4-df55-4273-a978-ddd1309c3922",
   "metadata": {},
   "outputs": [
    {
     "name": "stdout",
     "output_type": "stream",
     "text": [
      "Requirement already satisfied: pandas==2.2.1 in /home/deniz.toktay/Development/Lang/anaconda3/envs/genAI/lib/python3.12/site-packages (from -r interpolate-requirements.txt (line 1)) (2.2.1)\n",
      "Requirement already satisfied: numpy==1.26.4 in /home/deniz.toktay/Development/Lang/anaconda3/envs/genAI/lib/python3.12/site-packages (from -r interpolate-requirements.txt (line 2)) (1.26.4)\n",
      "Requirement already satisfied: pika==1.3.2 in /home/deniz.toktay/Development/Lang/anaconda3/envs/genAI/lib/python3.12/site-packages (from -r interpolate-requirements.txt (line 3)) (1.3.2)\n",
      "Requirement already satisfied: python-dateutil>=2.8.2 in /home/deniz.toktay/Development/Lang/anaconda3/envs/genAI/lib/python3.12/site-packages (from pandas==2.2.1->-r interpolate-requirements.txt (line 1)) (2.9.0.post0)\n",
      "Requirement already satisfied: pytz>=2020.1 in /home/deniz.toktay/Development/Lang/anaconda3/envs/genAI/lib/python3.12/site-packages (from pandas==2.2.1->-r interpolate-requirements.txt (line 1)) (2024.1)\n",
      "Requirement already satisfied: tzdata>=2022.7 in /home/deniz.toktay/Development/Lang/anaconda3/envs/genAI/lib/python3.12/site-packages (from pandas==2.2.1->-r interpolate-requirements.txt (line 1)) (2024.1)\n",
      "Requirement already satisfied: six>=1.5 in /home/deniz.toktay/Development/Lang/anaconda3/envs/genAI/lib/python3.12/site-packages (from python-dateutil>=2.8.2->pandas==2.2.1->-r interpolate-requirements.txt (line 1)) (1.16.0)\n"
     ]
    }
   ],
   "source": [
    "!pip install -r interpolate-requirements.txt"
   ]
  },
  {
   "cell_type": "code",
   "execution_count": 3,
   "id": "042a44b3-bb79-4528-8f8b-5071647a3a14",
   "metadata": {},
   "outputs": [],
   "source": [
    "import pandas as pd\n",
    "import numpy as np\n",
    "import pika\n",
    "import json\n",
    "import sql_operations"
   ]
  },
  {
   "cell_type": "code",
   "execution_count": 4,
   "id": "9862fc17-3d82-4624-a799-976f03229134",
   "metadata": {},
   "outputs": [],
   "source": [
    "# Temporary for in operation\n",
    "import psycopg2\n",
    "import sqls"
   ]
  },
  {
   "cell_type": "code",
   "execution_count": 5,
   "id": "92a54f1b-67d3-40d1-b446-e9230e904466",
   "metadata": {},
   "outputs": [
    {
     "data": {
      "text/plain": [
       "<METHOD(['channel_number=1', 'frame_type=1', \"method=<Queue.DeclareOk(['consumer_count=0', 'message_count=0', 'queue=new_interpolarate'])>\"])>"
      ]
     },
     "execution_count": 5,
     "metadata": {},
     "output_type": "execute_result"
    }
   ],
   "source": [
    "mq_connection = pika.BlockingConnection(\n",
    "    pika.ConnectionParameters('172.16.238.20'))\n",
    "channel = mq_connection.channel()\n",
    "channel.queue_declare(queue='new_data')\n",
    "channel.queue_declare(queue='new_interpolarate')"
   ]
  },
  {
   "cell_type": "code",
   "execution_count": 6,
   "id": "00cf92d5-3005-49f1-870a-bfbfcfe643b4",
   "metadata": {},
   "outputs": [],
   "source": [
    "connection = psycopg2.connect(database='postgres_db',\n",
    "                              user='postgres',\n",
    "                              password='p.postgres',\n",
    "                              host='172.16.238.10',\n",
    "                              port=5432)\n",
    "cursor = connection.cursor()"
   ]
  },
  {
   "cell_type": "code",
   "execution_count": 7,
   "id": "1c0b408e-1a2f-4478-9195-7fb1e4483cfa",
   "metadata": {},
   "outputs": [],
   "source": [
    "def get_raw_data_to_process(ids_to_fetch):\n",
    "    cursor.execute(sqls.get_raw_data_to_process, (ids_to_fetch,))\n",
    "    raws = cursor.fetchall()\n",
    "    raw_data_to_process = []\n",
    "    ids = []\n",
    "    for raw in raws:\n",
    "        raw_data_to_process.append(\n",
    "            {'id': raw[0], 'timestamp': raw[1], 'value': raw[2]})\n",
    "        ids.append(raw[0])\n",
    "    return raw_data_to_process"
   ]
  },
  {
   "cell_type": "code",
   "execution_count": 8,
   "id": "74c2cbf1-8d23-4094-bb62-3de5cf3f9906",
   "metadata": {},
   "outputs": [],
   "source": [
    "def interpolate_data(timestamps, values):\n",
    "    timeSerie = pd.Series(values, index=timestamps)\n",
    "    timeSerie[timeSerie==-1] = np.nan\n",
    "    timeSerie = timeSerie.resample('min')\n",
    "    timeSerie = timeSerie.interpolate(method='time')\n",
    "    return  timeSerie"
   ]
  },
  {
   "cell_type": "code",
   "execution_count": 9,
   "id": "f582f899-4824-4365-b998-b6ebd0cfed73",
   "metadata": {},
   "outputs": [],
   "source": [
    "def get_previous_sum(batch_id, tag_id):\n",
    "    return sql_operations.get_the_sum_of_production(batch_id, tag_id)"
   ]
  },
  {
   "cell_type": "code",
   "execution_count": 10,
   "id": "dd0c6ce6-7f71-4ff4-bbfd-c1ec9d8e5bf4",
   "metadata": {},
   "outputs": [],
   "source": [
    "def get_latest_interpolated_data(batch_id, tag_id):\n",
    "    return sql_operations.get_latest_interpolated_data(batch_id, tag_id)"
   ]
  },
  {
   "cell_type": "code",
   "execution_count": 11,
   "id": "3c0afe63-660f-4f4a-8d49-4f7f79cdd3e5",
   "metadata": {},
   "outputs": [],
   "source": [
    "def find_duplicate_timestamps(data_frame):\n",
    "    df = data_frame.copy()\n",
    "    ts = df['timestamp']\n",
    "    xy = df[ts.isin(ts[ts.duplicated()])].sort_values(['timestamp', 'value'])\n",
    "    if xy.empty:\n",
    "        return data_frame\n",
    "    xy.drop_duplicates(subset='timestamp', keep='last', inplace=True)\n",
    "    a = pd.merge(df, xy, on=['timestamp', 'value'], how='outer', indicator=True).query(\"_merge != 'both'\").drop('_merge', axis=1).reset_index(drop=True)\n",
    "    return find_duplicate_timestamps(a)"
   ]
  },
  {
   "cell_type": "code",
   "execution_count": 12,
   "id": "7f31e187-d972-4a81-a05b-14fee24881a9",
   "metadata": {},
   "outputs": [],
   "source": [
    "def find_duplicate_values(data_frame):\n",
    "    df = data_frame.copy()\n",
    "    ts = df['value']\n",
    "    xy = df[ts.isin(ts[ts.duplicated()])].sort_values(['timestamp', 'value'])\n",
    "    if xy.empty:\n",
    "        return data_frame\n",
    "    xy.drop_duplicates(subset='timestamp', keep='last', inplace=True)\n",
    "    a = pd.merge(data_frame, xy, on=['timestamp', 'value'], how='outer', indicator=True).query(\"_merge != 'both'\").drop('_merge', axis=1).reset_index(drop=True)\n",
    "    return find_duplicate_values(a)"
   ]
  },
  {
   "cell_type": "code",
   "execution_count": 13,
   "id": "1938245d-37da-4319-9b2f-4ccdd99a35d8",
   "metadata": {},
   "outputs": [],
   "source": [
    "def interpolate_tag(batch_id, tag_id, ids_to_interpolate):\n",
    "    sum_of_previous = get_previous_sum(batch_id, tag_id)\n",
    "    raw_data_to_process = get_raw_data_to_process(tuple(ids_to_interpolate))\n",
    "    raw_data_df = pd.DataFrame(raw_data_to_process)\n",
    "    timestamps = raw_data_df['timestamp'].tolist()\n",
    "    raw_data_df = find_duplicate_timestamps(raw_data_df)\n",
    "    raw_data_df = find_duplicate_values(raw_data_df)\n",
    "    latest_interpolated = None\n",
    "    latest_interpolated_value = None\n",
    "    # if interpolated before get the latest interpolated data to continue\n",
    "    if sum_of_previous > 0:\n",
    "        latest_interpolated = get_latest_interpolated_data(batch_id, tag_id)\n",
    "        latest_interpolated_value = latest_interpolated['value']\n",
    "        raw_data_to_process.insert(0, {'id': 0, 'timestamp': latest_interpolated['timestamp'], 'value': sum_of_previous})\n",
    "    timestamps = [d['timestamp'] for d in raw_data_to_process]\n",
    "    values = [d['value'] for d in raw_data_to_process]\n",
    "    interpolated_dataframe= pd.DataFrame(interpolate_data(raw_data_df['timestamp'].tolist(), raw_data_df['value'].tolist()), columns=['value'])\n",
    "    interpolated_dataframe.value = interpolated_dataframe.value.round()\n",
    "    first_value = interpolated_dataframe.iloc[0]['value']\n",
    "    interpolated_dataframe = interpolated_dataframe.diff().fillna(first_value)\n",
    "    interpolated_dataframe.loc[0, 'value'] = first_value\n",
    "    time_set = set(timestamps)\n",
    "    inserted_ids = []\n",
    "    for index, row in interpolated_dataframe.iterrows():\n",
    "        if index is not None and index !=0:\n",
    "            idx = sql_operations.insert_interpolated_data(pd.to_datetime(index), row['value'], 'ORIGINAL' if index in time_set else 'INTERPOLATED')\n",
    "            sql_operations.insert_interpolated_batch(idx, batch_id)\n",
    "            sql_operations.insert_interpolated_tag(idx, tag_id)\n",
    "            inserted_ids.append(idx)\n",
    "    sql_operations.commit()\n",
    "    return inserted_ids"
   ]
  },
  {
   "cell_type": "code",
   "execution_count": 14,
   "id": "02436412-1d0c-40df-9f89-38bb99b6bd59",
   "metadata": {},
   "outputs": [],
   "source": [
    "def send_message(message):\n",
    "    channel.basic_publish(exchange='', routing_key='new_interpolarate', body=message)\n",
    "    pass"
   ]
  },
  {
   "cell_type": "code",
   "execution_count": 15,
   "id": "39767e8a-0ba3-462c-893a-652173c6649b",
   "metadata": {},
   "outputs": [],
   "source": [
    "def process_message(queue_message):\n",
    "    master_tag_interpolated_ids = interpolate_tag(queue_message['BatchId'], \n",
    "                                                  queue_message['MasterTag']['id'],\n",
    "                                                  queue_message['MasterTag']['values'])\n",
    "    error_tag_interpolated_ids = interpolate_tag(queue_message['BatchId'], \n",
    "                                                  queue_message['ErrorTag']['id'],\n",
    "                                                  queue_message['ErrorTag']['values'])\n",
    "    message_to_send = {\n",
    "        'ConfigId': queue_message['ConfigId'],\n",
    "        'BatchId': queue_message['BatchId'],\n",
    "        'MasterTag': {\n",
    "            'id': queue_message['MasterTag']['id'],\n",
    "            'name': queue_message['MasterTag']['name'],\n",
    "            'interpolatedIds': master_tag_interpolated_ids\n",
    "        },\n",
    "        'ErrorTag': {\n",
    "            'id': queue_message['ErrorTag']['id'],\n",
    "            'name': queue_message['ErrorTag']['name'],\n",
    "            'interpolatedIds': error_tag_interpolated_ids\n",
    "        }\n",
    "    }\n",
    "    return json.dumps(message_to_send)"
   ]
  },
  {
   "cell_type": "code",
   "execution_count": 16,
   "id": "6bb4d70e-ce77-495a-a857-b313cc5e0770",
   "metadata": {},
   "outputs": [],
   "source": [
    "def message_consumer():\n",
    "    def callback(ch, method, properties, body):\n",
    "        queue_message = json.loads(body)\n",
    "        message = process_message(queue_message)\n",
    "        send_message(message)\n",
    "    channel.basic_consume(queue='new_data', on_message_callback=callback, auto_ack=True)\n",
    "    channel.start_consuming()"
   ]
  },
  {
   "cell_type": "code",
   "execution_count": 17,
   "id": "ccc7b22c-0b74-48f9-a46c-b8e2aefb4015",
   "metadata": {},
   "outputs": [
    {
     "ename": "KeyboardInterrupt",
     "evalue": "",
     "output_type": "error",
     "traceback": [
      "\u001b[0;31m---------------------------------------------------------------------------\u001b[0m",
      "\u001b[0;31mKeyboardInterrupt\u001b[0m                         Traceback (most recent call last)",
      "Cell \u001b[0;32mIn[17], line 1\u001b[0m\n\u001b[0;32m----> 1\u001b[0m message_consumer()\n",
      "Cell \u001b[0;32mIn[16], line 7\u001b[0m, in \u001b[0;36mmessage_consumer\u001b[0;34m()\u001b[0m\n\u001b[1;32m      5\u001b[0m     send_message(message)\n\u001b[1;32m      6\u001b[0m channel\u001b[38;5;241m.\u001b[39mbasic_consume(queue\u001b[38;5;241m=\u001b[39m\u001b[38;5;124m'\u001b[39m\u001b[38;5;124mnew_data\u001b[39m\u001b[38;5;124m'\u001b[39m, on_message_callback\u001b[38;5;241m=\u001b[39mcallback, auto_ack\u001b[38;5;241m=\u001b[39m\u001b[38;5;28;01mTrue\u001b[39;00m)\n\u001b[0;32m----> 7\u001b[0m channel\u001b[38;5;241m.\u001b[39mstart_consuming()\n",
      "File \u001b[0;32m~/Development/Lang/anaconda3/envs/genAI/lib/python3.12/site-packages/pika/adapters/blocking_connection.py:1883\u001b[0m, in \u001b[0;36mBlockingChannel.start_consuming\u001b[0;34m(self)\u001b[0m\n\u001b[1;32m   1880\u001b[0m \u001b[38;5;66;03m# Process events as long as consumers exist on this channel\u001b[39;00m\n\u001b[1;32m   1881\u001b[0m \u001b[38;5;28;01mwhile\u001b[39;00m \u001b[38;5;28mself\u001b[39m\u001b[38;5;241m.\u001b[39m_consumer_infos:\n\u001b[1;32m   1882\u001b[0m     \u001b[38;5;66;03m# This will raise ChannelClosed if channel is closed by broker\u001b[39;00m\n\u001b[0;32m-> 1883\u001b[0m     \u001b[38;5;28mself\u001b[39m\u001b[38;5;241m.\u001b[39m_process_data_events(time_limit\u001b[38;5;241m=\u001b[39m\u001b[38;5;28;01mNone\u001b[39;00m)\n",
      "File \u001b[0;32m~/Development/Lang/anaconda3/envs/genAI/lib/python3.12/site-packages/pika/adapters/blocking_connection.py:2044\u001b[0m, in \u001b[0;36mBlockingChannel._process_data_events\u001b[0;34m(self, time_limit)\u001b[0m\n\u001b[1;32m   2025\u001b[0m \u001b[38;5;28;01mdef\u001b[39;00m \u001b[38;5;21m_process_data_events\u001b[39m(\u001b[38;5;28mself\u001b[39m, time_limit):\n\u001b[1;32m   2026\u001b[0m \u001b[38;5;250m    \u001b[39m\u001b[38;5;124;03m\"\"\"Wrapper for `BlockingConnection.process_data_events()` with common\u001b[39;00m\n\u001b[1;32m   2027\u001b[0m \u001b[38;5;124;03m    channel-specific logic that raises ChannelClosed if broker closed this\u001b[39;00m\n\u001b[1;32m   2028\u001b[0m \u001b[38;5;124;03m    channel.\u001b[39;00m\n\u001b[0;32m   (...)\u001b[0m\n\u001b[1;32m   2042\u001b[0m \n\u001b[1;32m   2043\u001b[0m \u001b[38;5;124;03m    \"\"\"\u001b[39;00m\n\u001b[0;32m-> 2044\u001b[0m     \u001b[38;5;28mself\u001b[39m\u001b[38;5;241m.\u001b[39mconnection\u001b[38;5;241m.\u001b[39mprocess_data_events(time_limit\u001b[38;5;241m=\u001b[39mtime_limit)\n\u001b[1;32m   2045\u001b[0m     \u001b[38;5;28;01mif\u001b[39;00m \u001b[38;5;28mself\u001b[39m\u001b[38;5;241m.\u001b[39mis_closed \u001b[38;5;129;01mand\u001b[39;00m \u001b[38;5;28misinstance\u001b[39m(\u001b[38;5;28mself\u001b[39m\u001b[38;5;241m.\u001b[39m_closing_reason,\n\u001b[1;32m   2046\u001b[0m                                      exceptions\u001b[38;5;241m.\u001b[39mChannelClosedByBroker):\n\u001b[1;32m   2047\u001b[0m         LOGGER\u001b[38;5;241m.\u001b[39mdebug(\u001b[38;5;124m'\u001b[39m\u001b[38;5;124mChannel close by broker detected, raising \u001b[39m\u001b[38;5;132;01m%r\u001b[39;00m\u001b[38;5;124m; \u001b[39m\u001b[38;5;132;01m%r\u001b[39;00m\u001b[38;5;124m'\u001b[39m,\n\u001b[1;32m   2048\u001b[0m                      \u001b[38;5;28mself\u001b[39m\u001b[38;5;241m.\u001b[39m_closing_reason, \u001b[38;5;28mself\u001b[39m)\n",
      "File \u001b[0;32m~/Development/Lang/anaconda3/envs/genAI/lib/python3.12/site-packages/pika/adapters/blocking_connection.py:842\u001b[0m, in \u001b[0;36mBlockingConnection.process_data_events\u001b[0;34m(self, time_limit)\u001b[0m\n\u001b[1;32m    838\u001b[0m common_terminator \u001b[38;5;241m=\u001b[39m \u001b[38;5;28;01mlambda\u001b[39;00m: \u001b[38;5;28mbool\u001b[39m(dispatch_acquired \u001b[38;5;129;01mand\u001b[39;00m\n\u001b[1;32m    839\u001b[0m                                  (\u001b[38;5;28mself\u001b[39m\u001b[38;5;241m.\u001b[39m_channels_pending_dispatch \u001b[38;5;129;01mor\u001b[39;00m\n\u001b[1;32m    840\u001b[0m                                   \u001b[38;5;28mself\u001b[39m\u001b[38;5;241m.\u001b[39m_ready_events))\n\u001b[1;32m    841\u001b[0m \u001b[38;5;28;01mif\u001b[39;00m time_limit \u001b[38;5;129;01mis\u001b[39;00m \u001b[38;5;28;01mNone\u001b[39;00m:\n\u001b[0;32m--> 842\u001b[0m     \u001b[38;5;28mself\u001b[39m\u001b[38;5;241m.\u001b[39m_flush_output(common_terminator)\n\u001b[1;32m    843\u001b[0m \u001b[38;5;28;01melse\u001b[39;00m:\n\u001b[1;32m    844\u001b[0m     \u001b[38;5;28;01mwith\u001b[39;00m _IoloopTimerContext(time_limit, \u001b[38;5;28mself\u001b[39m\u001b[38;5;241m.\u001b[39m_impl) \u001b[38;5;28;01mas\u001b[39;00m timer:\n",
      "File \u001b[0;32m~/Development/Lang/anaconda3/envs/genAI/lib/python3.12/site-packages/pika/adapters/blocking_connection.py:514\u001b[0m, in \u001b[0;36mBlockingConnection._flush_output\u001b[0;34m(self, *waiters)\u001b[0m\n\u001b[1;32m    512\u001b[0m \u001b[38;5;66;03m# Process I/O until our completion condition is satisfied\u001b[39;00m\n\u001b[1;32m    513\u001b[0m \u001b[38;5;28;01mwhile\u001b[39;00m \u001b[38;5;129;01mnot\u001b[39;00m is_done():\n\u001b[0;32m--> 514\u001b[0m     \u001b[38;5;28mself\u001b[39m\u001b[38;5;241m.\u001b[39m_impl\u001b[38;5;241m.\u001b[39mioloop\u001b[38;5;241m.\u001b[39mpoll()\n\u001b[1;32m    515\u001b[0m     \u001b[38;5;28mself\u001b[39m\u001b[38;5;241m.\u001b[39m_impl\u001b[38;5;241m.\u001b[39mioloop\u001b[38;5;241m.\u001b[39mprocess_timeouts()\n\u001b[1;32m    517\u001b[0m \u001b[38;5;28;01mif\u001b[39;00m \u001b[38;5;28mself\u001b[39m\u001b[38;5;241m.\u001b[39m_closed_result\u001b[38;5;241m.\u001b[39mready:\n",
      "File \u001b[0;32m~/Development/Lang/anaconda3/envs/genAI/lib/python3.12/site-packages/pika/adapters/select_connection.py:579\u001b[0m, in \u001b[0;36mIOLoop.poll\u001b[0;34m(self)\u001b[0m\n\u001b[1;32m    572\u001b[0m \u001b[38;5;28;01mdef\u001b[39;00m \u001b[38;5;21mpoll\u001b[39m(\u001b[38;5;28mself\u001b[39m):\n\u001b[1;32m    573\u001b[0m \u001b[38;5;250m    \u001b[39m\u001b[38;5;124;03m\"\"\"[Extension] Wait for events of interest on registered file\u001b[39;00m\n\u001b[1;32m    574\u001b[0m \u001b[38;5;124;03m    descriptors until an event of interest occurs or next timer deadline or\u001b[39;00m\n\u001b[1;32m    575\u001b[0m \u001b[38;5;124;03m    `_PollerBase._MAX_POLL_TIMEOUT`, whichever is sooner, and dispatch the\u001b[39;00m\n\u001b[1;32m    576\u001b[0m \u001b[38;5;124;03m    corresponding event handlers.\u001b[39;00m\n\u001b[1;32m    577\u001b[0m \n\u001b[1;32m    578\u001b[0m \u001b[38;5;124;03m    \"\"\"\u001b[39;00m\n\u001b[0;32m--> 579\u001b[0m     \u001b[38;5;28mself\u001b[39m\u001b[38;5;241m.\u001b[39m_poller\u001b[38;5;241m.\u001b[39mpoll()\n",
      "File \u001b[0;32m~/Development/Lang/anaconda3/envs/genAI/lib/python3.12/site-packages/pika/adapters/select_connection.py:1184\u001b[0m, in \u001b[0;36mPollPoller.poll\u001b[0;34m(self)\u001b[0m\n\u001b[1;32m   1182\u001b[0m \u001b[38;5;28;01mwhile\u001b[39;00m \u001b[38;5;28;01mTrue\u001b[39;00m:\n\u001b[1;32m   1183\u001b[0m     \u001b[38;5;28;01mtry\u001b[39;00m:\n\u001b[0;32m-> 1184\u001b[0m         events \u001b[38;5;241m=\u001b[39m \u001b[38;5;28mself\u001b[39m\u001b[38;5;241m.\u001b[39m_poll\u001b[38;5;241m.\u001b[39mpoll(\u001b[38;5;28mself\u001b[39m\u001b[38;5;241m.\u001b[39m_get_max_wait())\n\u001b[1;32m   1185\u001b[0m         \u001b[38;5;28;01mbreak\u001b[39;00m\n\u001b[1;32m   1186\u001b[0m     \u001b[38;5;28;01mexcept\u001b[39;00m _SELECT_ERRORS \u001b[38;5;28;01mas\u001b[39;00m error:\n",
      "\u001b[0;31mKeyboardInterrupt\u001b[0m: "
     ]
    }
   ],
   "source": [
    "message_consumer()"
   ]
  },
  {
   "cell_type": "code",
   "execution_count": 18,
   "id": "2208e4a1-c959-4ba7-bc1d-e2be6bcb3a4e",
   "metadata": {},
   "outputs": [],
   "source": [
    "mq_connection.close()"
   ]
  },
  {
   "cell_type": "code",
   "execution_count": null,
   "id": "73996227-20a6-4698-b2ac-451ca8295439",
   "metadata": {},
   "outputs": [],
   "source": []
  }
 ],
 "metadata": {
  "kernelspec": {
   "display_name": "Python 3 (ipykernel)",
   "language": "python",
   "name": "python3"
  },
  "language_info": {
   "codemirror_mode": {
    "name": "ipython",
    "version": 3
   },
   "file_extension": ".py",
   "mimetype": "text/x-python",
   "name": "python",
   "nbconvert_exporter": "python",
   "pygments_lexer": "ipython3",
   "version": "3.12.3"
  }
 },
 "nbformat": 4,
 "nbformat_minor": 5
}
